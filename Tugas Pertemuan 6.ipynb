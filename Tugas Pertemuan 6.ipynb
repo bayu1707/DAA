{
  "nbformat": 4,
  "nbformat_minor": 0,
  "metadata": {
    "colab": {
      "provenance": [],
      "authorship_tag": "ABX9TyNolKZXnUkIzz9hkwQiFqgi",
      "include_colab_link": true
    },
    "kernelspec": {
      "name": "python3",
      "display_name": "Python 3"
    },
    "language_info": {
      "name": "python"
    }
  },
  "cells": [
    {
      "cell_type": "markdown",
      "metadata": {
        "id": "view-in-github",
        "colab_type": "text"
      },
      "source": [
        "<a href=\"https://colab.research.google.com/github/bayu1707/DAA/blob/main/Tugas%20Pertemuan%206.ipynb\" target=\"_parent\"><img src=\"https://colab.research.google.com/assets/colab-badge.svg\" alt=\"Open In Colab\"/></a>"
      ]
    },
    {
      "cell_type": "code",
      "source": [
        "belanjaan_barang = set()\n",
        "\n",
        "print(\"BELANJA BULANAN\")\n",
        "\n",
        "barang_1 = input(\"Masukkan barang  pertama: \")\n",
        "barang_2 = input(\"Masukkan barang  kedua: \")\n",
        "barang_3 = input(\"Masukkan barang  ketiga: \")\n",
        "\n",
        "belanjaan_barang.add(barang_1)\n",
        "belanjaan_barang.add(barang_2)\n",
        "belanjaan_barang.add(barang_3)\n",
        "\n",
        "print(\"barang yang akan ditambahkan ke dalam Belanjaan.\")\n",
        "\n",
        "print(\"Isi dari Belanjaan:\")\n",
        "for barang in belanjaan_barang:\n",
        "    print(\"-\", barang)\n",
        "\n",
        "print(\"Jumlah barang dalam Belanjaan:\", len(belanjaan_barang))\n",
        "\n",
        "hapus_barang = input(\"Masukkan barang  yang ingin dikeluarkan: \")\n",
        "if hapus_barang in belanjaan_barang:\n",
        "    belanjaan_barang.remove(hapus_barang)\n",
        "    print(f\"{hapus_barang} telah dikeluarkan dari Belanjaan.\")\n",
        "else:\n",
        "    print(f\"{hapus_barang} tidak ada dalam Belanjaan.\")\n",
        "\n",
        "print(\"Isi dari Belanjaan:\")\n",
        "for barang in belanjaan_barang:\n",
        "    print(\"-\", barang)"
      ],
      "metadata": {
        "colab": {
          "base_uri": "https://localhost:8080/"
        },
        "id": "XTy8zawBnGTR",
        "outputId": "8188d1b0-adf3-4da4-b532-84298d2a47bb"
      },
      "execution_count": 8,
      "outputs": [
        {
          "output_type": "stream",
          "name": "stdout",
          "text": [
            "BELANJA BULANAN\n",
            "Masukkan barang  pertama: ayam\n",
            "Masukkan barang  kedua: bebek\n",
            "Masukkan barang  ketiga: telur\n",
            "barang yang akan ditambahkan ke dalam Belanjaan.\n",
            "Isi dari Belanjaan:\n",
            "- bebek\n",
            "- ayam\n",
            "- telur\n",
            "Jumlah barang dalam Belanjaan: 3\n",
            "Masukkan barang  yang ingin dikeluarkan: ayam\n",
            "ayam telah dikeluarkan dari Belanjaan.\n",
            "Isi dari Belanjaan:\n",
            "- bebek\n",
            "- telur\n"
          ]
        }
      ]
    },
    {
      "cell_type": "code",
      "source": [
        "def hitung_ppn(nilai):\n",
        "    return nilai * 0.12 if nilai > 10000 else 0\n",
        "\n",
        "a = float(input(\"Masukkan nilai a: \"))\n",
        "b = float(input(\"Masukkan nilai b: \"))\n",
        "\n",
        "a_lebih_besar = a > b\n",
        "b_lebih_besar = b > a\n",
        "sama_dengan = a == b\n",
        "\n",
        "ppn_a = hitung_ppn(a)\n",
        "ppn_b = hitung_ppn(b)\n",
        "total_ppn = ppn_a + ppn_b\n",
        "\n",
        "print(\"Cek apakah a lebih besar dari b:\", a_lebih_besar)\n",
        "print(\"Cek apakah b lebih besar dari a:\", b_lebih_besar)\n",
        "print(\"Cek apakah a sama dengan b:\", sama_dengan)\n",
        "print(\"PPN a:\", ppn_a)\n",
        "print(\"PPN b:\", ppn_b)\n",
        "print(\"Total PPN:\", total_ppn)\n",
        "print(\"Cek apakah a dan b telah dihapus:\", not(a or b))\n"
      ],
      "metadata": {
        "colab": {
          "base_uri": "https://localhost:8080/"
        },
        "id": "PYbOifn_kcef",
        "outputId": "4a87f2e0-4b3a-43be-c877-5cbd1fadcb3f"
      },
      "execution_count": 11,
      "outputs": [
        {
          "output_type": "stream",
          "name": "stdout",
          "text": [
            "Masukkan nilai a: 8000\n",
            "Masukkan nilai b: 30000\n",
            "Cek apakah a lebih besar dari b: False\n",
            "Cek apakah b lebih besar dari a: True\n",
            "Cek apakah a sama dengan b: False\n",
            "PPN a: 0\n",
            "PPN b: 3600.0\n",
            "Total PPN: 3600.0\n",
            "Cek apakah a dan b telah dihapus: False\n"
          ]
        }
      ]
    },
    {
      "cell_type": "code",
      "source": [
        "def hitung_ppn(nilai):\n",
        "    if nilai > 10000:\n",
        "        return nilai * 0.12\n",
        "    else:\n",
        "        return 0\n",
        "\n",
        "def hitung_ppn_b(nilai):\n",
        "    if nilai > 50000:\n",
        "        return nilai * 0.12\n",
        "    else:\n",
        "        return 0\n",
        "\n",
        "a = float(input(\"Masukkan nilai a: \"))\n",
        "b = float(input(\"Masukkan nilai b: \"))\n",
        "\n",
        "a_lebih_besar = a > b\n",
        "b_lebih_besar = b > a\n",
        "sama_dengan = a == b\n",
        "\n",
        "ppn_a = hitung_ppn(a)\n",
        "ppn_b = hitung_ppn_b(b)\n",
        "total_ppn = ppn_a + ppn_b\n",
        "\n",
        "print(\"Cek apakah a lebih besar dari b:\", a_lebih_besar)\n",
        "print(\"Cek apakah b lebih besar dari a:\", b_lebih_besar)\n",
        "print(\"Cek apakah a sama dengan b:\", sama_dengan)\n",
        "print(\"PPN a:\", ppn_a)\n",
        "print(\"PPN b:\", ppn_b)\n",
        "print(\"Total PPN:\", total_ppn)\n",
        "print(\"Cek apakah a dan b telah dihapus:\", not(a or b))\n"
      ],
      "metadata": {
        "colab": {
          "base_uri": "https://localhost:8080/"
        },
        "id": "1jv1jXP7tJ_C",
        "outputId": "9aaa87f1-e504-4682-b71d-e45dc236a2e5"
      },
      "execution_count": 13,
      "outputs": [
        {
          "output_type": "stream",
          "name": "stdout",
          "text": [
            "Masukkan nilai a: 15000\n",
            "Masukkan nilai b: 30000\n",
            "Cek apakah a lebih besar dari b: False\n",
            "Cek apakah b lebih besar dari a: True\n",
            "Cek apakah a sama dengan b: False\n",
            "PPN a: 1800.0\n",
            "PPN b: 0\n",
            "Total PPN: 1800.0\n",
            "Cek apakah a dan b telah dihapus: False\n"
          ]
        }
      ]
    },
    {
      "cell_type": "code",
      "source": [
        "# 1. ada 2 input (masukkan nilai) a dan b\n",
        "a = float(input(\"Masukkan nilai a: \"))\n",
        "b = float(input(\"Masukkan nilai b: \"))\n",
        "\n",
        "# 2. output berupa print\n",
        "print(\"Nilai a: \", a)\n",
        "print(\"Nilai b: \", b)\n",
        "\n",
        "# 3. cek dengan boolean apakah a lebih besar dari b?\n",
        "a_lebih_b = a > b\n",
        "print(\"a lebih besar dari b:\", a_lebih_b)\n",
        "\n",
        "# 4. cek dengan boolean apakah b lebih besar dari a?\n",
        "b_lebih_a = b > a\n",
        "print(\"b lebih besar dari a:\", b_lebih_a)\n",
        "\n",
        "# 5. cek dengan boolean apakah a sama dengan b?\n",
        "a_sama_b = a == b\n",
        "print(\"a sama dengan b:\", a_sama_b)\n",
        "\n",
        "# 6. hitung ppn a sebesar 12%, jika lebih dari 10000\n",
        "ppn_a = a * 0.12 if a > 10000 else 0\n",
        "print(\"PPN a:\", ppn_a)\n",
        "\n",
        "# 7. hitung ppn b sebesar 12%, jika lebih dari 50000\n",
        "ppn_b = b * 0.12 if b > 50000 else 0\n",
        "print(\"PPN b:\", ppn_b)\n",
        "\n",
        "# 8. tambahkan keduai ppn a dan b, cek dengan boolean\n",
        "total_ppn = ppn_a + ppn_b\n",
        "print(\"Total PPN:\", total_ppn)\n",
        "\n",
        "# 9. hapus a dan b, cek dengan boolean\n",
        "a = 0\n",
        "b = 0\n",
        "print(\"Nilai a:\", bool(a))\n",
        "print(\"Nilai b:\", bool(b))"
      ],
      "metadata": {
        "colab": {
          "base_uri": "https://localhost:8080/"
        },
        "id": "lhUqmht-uoKZ",
        "outputId": "b426069c-2c8d-4791-b844-ed55f89288e4"
      },
      "execution_count": 16,
      "outputs": [
        {
          "output_type": "stream",
          "name": "stdout",
          "text": [
            "Masukkan nilai a: 20000\n",
            "Masukkan nilai b: 60000\n",
            "Nilai a:  20000.0\n",
            "Nilai b:  60000.0\n",
            "a lebih besar dari b: False\n",
            "b lebih besar dari a: True\n",
            "a sama dengan b: False\n",
            "PPN a: 2400.0\n",
            "PPN b: 7200.0\n",
            "Total PPN: 9600.0\n",
            "Nilai a: False\n",
            "Nilai b: False\n"
          ]
        }
      ]
    },
    {
      "cell_type": "code",
      "source": [
        "# 1. ada 2 input (masukkan nilai) a dan b\n",
        "a = float(input(\"Masukkan nilai a: \"))\n",
        "b = float(input(\"Masukkan nilai b: \"))\n",
        "\n",
        "# 2. output berupa print\n",
        "print(\"Nilai a: \", a)\n",
        "print(\"Nilai b: \", b)\n",
        "\n",
        "# 3. cek dengan boolean apakah a lebih besar dari b?\n",
        "a_lebih_b = a > b\n",
        "print(\"a lebih besar dari b:\", a_lebih_b)\n",
        "\n",
        "# 4. cek dengan boolean apakah b lebih besar dari a?\n",
        "b_lebih_a = b > a\n",
        "print(\"b lebih besar dari a:\", b_lebih_a)\n",
        "\n",
        "# 5. cek dengan boolean apakah a sama dengan b?\n",
        "a_sama_b = a == b\n",
        "print(\"a sama dengan b:\", a_sama_b)\n",
        "\n",
        "# 6. hitung ppn a sebesar 12%, jika lebih dari 10000\n",
        "ppn_a = a * 0.12 if a > 10000 else 0\n",
        "print(\"PPN a:\", ppn_a)\n",
        "\n",
        "# 7. hitung ppn b sebesar 12%, jika lebih dari 50000\n",
        "ppn_b = b * 0.12 if b > 50000 else 0\n",
        "print(\"PPN b:\", ppn_b)\n",
        "\n",
        "# 8. tambahkan keduai ppn a dan b, cek dengan boolean\n",
        "total_ppn = ppn_a + ppn_b\n",
        "print(\"Total PPN:\", total_ppn)\n",
        "\n",
        "# 9. hapus a dan b, cek dengan boolean\n",
        "hapus = input(\"Hapus a/b: \")\n",
        "if hapus.lower() == \"a\":\n",
        "    a = 0\n",
        "elif hapus.lower() == \"b\":\n",
        "    b = 0\n",
        "else:\n",
        "    print(\"Inputan tidak valid\")\n",
        "\n",
        "print(\"Nilai a:\", bool(a))\n",
        "print(\"Nilai b:\", bool(b))"
      ],
      "metadata": {
        "colab": {
          "base_uri": "https://localhost:8080/"
        },
        "id": "K3HgwpVMwRwn",
        "outputId": "29891355-47b1-4aee-a832-a6c9983a0beb"
      },
      "execution_count": 18,
      "outputs": [
        {
          "output_type": "stream",
          "name": "stdout",
          "text": [
            "Masukkan nilai a: 12000\n",
            "Masukkan nilai b: 60000\n",
            "Nilai a:  12000.0\n",
            "Nilai b:  60000.0\n",
            "a lebih besar dari b: False\n",
            "b lebih besar dari a: True\n",
            "a sama dengan b: False\n",
            "PPN a: 1440.0\n",
            "PPN b: 7200.0\n",
            "Total PPN: 8640.0\n",
            "Hapus a/b: a\n",
            "Nilai a: False\n",
            "Nilai b: True\n"
          ]
        }
      ]
    },
    {
      "cell_type": "code",
      "source": [
        "import numpy as np\n",
        "import matplotlib.pyplot as plt\n",
        "\n",
        "rowmax = int(1079)\n",
        "colmax = int(1919)\n",
        "\n",
        "radius_max = int(1000)\n",
        "batas1 = int(0.2*radius_max)\n",
        "batas2 = int(0.4*radius_max)\n",
        "batas3 = int(0.6*radius_max)\n",
        "batas4 = int(0.8*radius_max)\n",
        "\n",
        "gambar = np.zeros(shape=(rowmax+1, colmax+1, 3), dtype=np.int16)\n",
        "for i in range(0, rowmax+1):\n",
        "    for j in range(0, colmax+1):\n",
        "        if (i**2+j**2) >= 0 and (i**2+j**2) < batas1**2:\n",
        "            gambar[i, j, 0] = 255\n",
        "        if (i**2+j**2) >= batas1**2 and (i**2+j**2) < batas2**2:\n",
        "            gambar[i, j, 1] = 255\n",
        "        if (i**2+j**2) >= batas2**2 and (i**2+j**2) < batas3**2:\n",
        "            gambar[i, j, 2] = 255\n",
        "        if (i**2+j**2) >= batas3**2 and (i**2+j**2) < batas4**2:\n",
        "            gambar[i, j, 0] = 255\n",
        "            gambar[i, j, 1] = 255\n",
        "        if (i**2+j**2) >= batas4**2 and (i**2+j**2) < radius_max**2:\n",
        "            gambar[i, j, 0] = 255\n",
        "            gambar[i, j, 2] = 255\n",
        "\n",
        "plt.figure()\n",
        "plt.imshow(gambar)\n",
        "plt.show()\n"
      ],
      "metadata": {
        "colab": {
          "base_uri": "https://localhost:8080/",
          "height": 345
        },
        "id": "YmPMpThuxWCC",
        "outputId": "869308f7-8d6c-4d96-e726-9656a3a1e77b"
      },
      "execution_count": 20,
      "outputs": [
        {
          "output_type": "display_data",
          "data": {
            "text/plain": [
              "<Figure size 640x480 with 1 Axes>"
            ],
            "image/png": "[encoded data removed]"
          },
          "metadata": {}
        }
      ]
    },
    {
      "cell_type": "code",
      "source": [
        "import numpy as np\n",
        "import matplotlib.pyplot as plt\n",
        "\n",
        "rowmax = int(1079)\n",
        "colmax = int(1919)\n",
        "\n",
        "radius_max = int(1000)\n",
        "batas1 = int(0.4 * radius_max)\n",
        "batas2 = int(0.8 * radius_max)\n",
        "batas3 = int(1.2 * radius_max)\n",
        "batas4 = int(1.6 * radius_max)\n",
        "batas5 = int(2 * radius_max)\n",
        "batas6 = int(2.4 * radius_max)\n",
        "\n",
        "gambar = np.zeros(shape=(rowmax + 1, colmax + 1, 3), dtype=np.int16)\n",
        "for i in range(0, rowmax + 1):\n",
        "    for j in range(0, colmax + 1):\n",
        "        if (i ** 2 + j ** 2) >= 0 and (i ** 2 + j ** 2) < batas1 ** 2:\n",
        "            gambar[i, j] = [255, 255, 255]\n",
        "        elif (i ** 2 + j ** 2) >= batas1 ** 2 or (i ** 2 + j ** 2) < batas2 ** 2:\n",
        "            gambar[i, j] = [0, 0, 0]\n",
        "        elif (i ** 2 + j ** 2) >= batas2 ** 2 and (i ** 2 + j ** 2) < batas3 ** 2:\n",
        "            gambar[i, j] = [255, 255, 255]\n",
        "        elif (i ** 2 + j ** 2) >= batas3 ** 2 and (i ** 2 + j ** 2) < batas4 ** 2:\n",
        "            gambar[i, j] = [0, 0, 0]\n",
        "        elif (i ** 2 + j ** 2) >= batas4 ** 2 and (i ** 2 + j ** 2) < batas5 ** 2:\n",
        "            gambar[i, j] = [255, 255, 255]\n",
        "        elif (i ** 2 + j ** 2) >= batas5 ** 2 and (i ** 2 + j ** 2) < batas6 ** 2:\n",
        "            gambar[i, j] = [0, 0, 0]\n",
        "        elif (i ** 2 + j ** 2) >= batas6 ** 2 and (i ** 2 + j ** 2) < radius_max ** 2:\n",
        "            gambar[i, j] = [255, 255, 255]\n",
        "\n",
        "plt.figure()\n",
        "plt.imshow(gambar)\n",
        "plt.show()\n"
      ],
      "metadata": {
        "colab": {
          "base_uri": "https://localhost:8080/",
          "height": 345
        },
        "id": "GX_pvl6n7GQ_",
        "outputId": "6543b221-49d4-4167-9497-c3d5c9df8888"
      },
      "execution_count": 21,
      "outputs": [
        {
          "output_type": "display_data",
          "data": {
            "text/plain": [
              "<Figure size 640x480 with 1 Axes>"
            ],
            "image/png": "[encoded data removed]"
          },
          "metadata": {}
        }
      ]
    },
    {
      "cell_type": "code",
      "source": [
        "import numpy as np\n",
        "import matplotlib.pyplot as plt\n",
        "\n",
        "rowmax = int(1079)\n",
        "colmax = int(1919)\n",
        "\n",
        "radius_max = int(1000)\n",
        "batas1 = int(0.4 * radius_max)\n",
        "batas2 = int(0.8 * radius_max)\n",
        "batas3 = int(1.2 * radius_max)\n",
        "batas4 = int(1.6 * radius_max)\n",
        "batas5 = int(2 * radius_max)\n",
        "batas6 = int(2.4 * radius_max)\n",
        "\n",
        "gambar = np.zeros(shape=(rowmax + 1, colmax + 1, 3), dtype=np.int16)\n",
        "for i in range(0, rowmax + 1):\n",
        "    for j in range(0, colmax + 1):\n",
        "        if (i ** 2 + j ** 2) >= 0 and (i ** 2 + j ** 2) < batas1 ** 2:\n",
        "            gambar[i, j] = [255, 0, 0]  # Change white to red\n",
        "        elif (i ** 2 + j ** 2) >= batas1 ** 2 or (i ** 2 + j ** 2) < batas2 ** 2:\n",
        "            gambar[i, j] = [0, 0, 0]\n",
        "        elif (i ** 2 + j ** 2) >= batas2 ** 2 and (i ** 2 + j ** 2) < batas3 ** 2:\n",
        "            gambar[i, j] = [255, 0, 0]  # Change white to red\n",
        "        elif (i ** 2 + j ** 2) >= batas3 ** 2 and (i ** 2 + j ** 2) < batas4 ** 2:\n",
        "            gambar[i, j] = [0, 0, 0]\n",
        "        elif (i ** 2 + j ** 2) >= batas4 ** 2 and (i ** 2 + j ** 2) < batas5 ** 2:\n",
        "            gambar[i, j] = [255, 0, 0]  # Change white to red\n",
        "        elif (i ** 2 + j ** 2) >= batas5 ** 2 and (i ** 2 + j ** 2) < batas6 ** 2:\n",
        "            gambar[i, j] = [0, 0, 0]\n",
        "        elif (i ** 2 + j ** 2) >= batas6 ** 2 and (i ** 2 + j ** 2) < radius_max ** 2:\n",
        "            gambar[i, j] = [255, 0, 0]  # Change white to red\n",
        "\n",
        "plt.figure()\n",
        "plt.imshow(gambar)\n",
        "plt.show()\n"
      ],
      "metadata": {
        "colab": {
          "base_uri": "https://localhost:8080/",
          "height": 345
        },
        "id": "enTxb15A_kyL",
        "outputId": "7a48a612-f15c-44f4-c982-d95746e934e9"
      },
      "execution_count": 22,
      "outputs": [
        {
          "output_type": "display_data",
          "data": {
            "text/plain": [
              "<Figure size 640x480 with 1 Axes>"
            ],
            "image/png": "[encoded data removed]"
          },
          "metadata": {}
        }
      ]
    },
    {
      "cell_type": "code",
      "source": [
        "import numpy as np\n",
        "import matplotlib.pyplot as plt\n",
        "\n",
        "rowmax = int(1079)\n",
        "colmax = int(1919)\n",
        "\n",
        "radius_max = int(1000)\n",
        "batas1 = int(0.4 * radius_max)\n",
        "batas2 = int(0.5 * radius_max)\n",
        "# batas3 = int(1.2 * radius_max)\n",
        "# batas4 = int(1.6 * radius_max)\n",
        "# batas5 = int(2 * radius_max)\n",
        "# batas6 = int(2.4 * radius_max)\n",
        "\n",
        "gambar = np.zeros(shape=(rowmax + 1, colmax + 1, 3), dtype=np.int16)\n",
        "for i in range(0, rowmax + 1):\n",
        "    for j in range(0, colmax + 1):\n",
        "        if (i ** 2 + j ** 2) >= 0 and (i ** 2 + j ** 2) < batas1 ** 2:\n",
        "            gambar[i, j] = [255, 255, 0]\n",
        "        elif (i ** 2 + j ** 2) >= batas1 ** 2 and (i ** 2 + j ** 2) < batas2 ** 2:\n",
        "            gambar[i, j] = [255, 0, 0]\n",
        "        elif (i**2+j**2) >= batas2**2 or (i**2+j**2) < radius_max**2:\n",
        "            gambar[i, j] = [255, 255, 255]\n",
        "\n",
        "\n",
        "plt.figure()\n",
        "plt.imshow(gambar)\n",
        "plt.show()\n"
      ],
      "metadata": {
        "colab": {
          "base_uri": "https://localhost:8080/",
          "height": 345
        },
        "id": "FW4sUFfZBpYf",
        "outputId": "3069b33b-0732-41d8-bcf9-3bdefbf1dbf7"
      },
      "execution_count": 25,
      "outputs": [
        {
          "output_type": "display_data",
          "data": {
            "text/plain": [
              "<Figure size 640x480 with 1 Axes>"
            ],
            "image/png": "[encoded data removed]"
          },
          "metadata": {}
        }
      ]
    },
    {
      "cell_type": "code",
      "source": [],
      "metadata": {
        "id": "brH3jdZHB_Ft"
      },
      "execution_count": null,
      "outputs": []
    }
  ]
}