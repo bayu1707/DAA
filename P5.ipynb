{
  "nbformat": 4,
  "nbformat_minor": 0,
  "metadata": {
    "colab": {
      "provenance": [],
      "authorship_tag": "ABX9TyOrdyZ80yb+ivqK6ywCkqgU",
      "include_colab_link": true
    },
    "kernelspec": {
      "name": "python3",
      "display_name": "Python 3"
    },
    "language_info": {
      "name": "python"
    }
  },
  "cells": [
    {
      "cell_type": "markdown",
      "metadata": {
        "id": "view-in-github",
        "colab_type": "text"
      },
      "source": [
        "<a href=\"https://colab.research.google.com/github/bayu1707/DAA/blob/main/P5.ipynb\" target=\"_parent\"><img src=\"https://colab.research.google.com/assets/colab-badge.svg\" alt=\"Open In Colab\"/></a>"
      ]
    },
    {
      "cell_type": "code",
      "execution_count": 1,
      "metadata": {
        "colab": {
          "base_uri": "https://localhost:8080/"
        },
        "id": "3aSQw1ME_X3w",
        "outputId": "6fceedd3-b508-4f43-bede-0c831a48d320"
      },
      "outputs": [
        {
          "output_type": "stream",
          "name": "stdout",
          "text": [
            "Case 1\n",
            "True\n",
            "False\n",
            "================================================\n",
            "Case 2\n",
            "True\n",
            "True\n",
            "False\n",
            "=============================================================\n",
            "Case 3\n",
            "Pajak yang harus Anda bayar: Rp  2000000.0\n",
            "Case 4\n",
            "True\n",
            "True\n",
            "True\n",
            "True\n",
            "True\n",
            "True\n",
            "=============================================================\n",
            "Case 5\n",
            "False\n",
            "False\n",
            "False\n",
            "False\n",
            "False\n",
            "=============================================================\n",
            "Case 6\n",
            "True\n",
            "=============================================================\n"
          ]
        }
      ],
      "source": [
        "#Case 1\n",
        "print(\"Case 1\")\n",
        "#Data bertipe Boolean yang Kita Deklarasikan (Cara Standar)\n",
        "f = bool(True)\n",
        "g = bool(False)\n",
        "print(f)\n",
        "print(g)\n",
        "print(\"================================================\")\n",
        "\n",
        "# Case 2\n",
        "print(\"Case 2\")\n",
        "# Boolean values in different contexts\n",
        "# Automatically tracked by the computer without declaration\n",
        "print(3 > 2)\n",
        "print(3 + 2 == 5)\n",
        "print(3 < 2)\n",
        "print(\"=============================================================\")\n",
        "\n",
        "# Case 3\n",
        "print(\"Case 3\")\n",
        "Penghasilan = 20000000\n",
        "penghasilan_tanpa_pajak = 4000000\n",
        "if penghasilan_tanpa_pajak >= Penghasilan:\n",
        "    pajak_yang_harus_dibayar = 0\n",
        "if Penghasilan > penghasilan_tanpa_pajak:\n",
        "    pajak_yang_harus_dibayar = 0.1 * Penghasilan\n",
        "\n",
        "print(\"Pajak yang harus Anda bayar: Rp \", pajak_yang_harus_dibayar)\n",
        "\n",
        "print(\"Case 4\")\n",
        "# Semua data yang tidak nol (kosong) memiliki nilai Boolean True\n",
        "\n",
        "a = 3\n",
        "b = \"Ini data string.\"\n",
        "c = \"laptop\", \"buku\", \"ballpen\"  # tuple\n",
        "d = [\"laptop\", \"buku\", \"ballpen\"]  # list\n",
        "e = {\"Laptop\": \"asus\", \"buku\": \"buku_teks\", \"ballpen\": \"arrow\"}  # dictionary\n",
        "f = {1, 2, 3, 4, 5}  # set\n",
        "print(bool(a))\n",
        "print(bool(b))\n",
        "print(bool(c))\n",
        "print(bool(d))\n",
        "print(bool(e))\n",
        "print(bool(f))\n",
        "print(\"=============================================================\")\n",
        "\n",
        "# PART 3\n",
        "# Case 5: Variables that are empty have a Boolean value of False\n",
        "print(\"Case 5\")\n",
        "\n",
        "a = 0\n",
        "b = \"\"\n",
        "c = ()\n",
        "d = []\n",
        "e = {}\n",
        "\n",
        "print(bool(a))\n",
        "print(bool(b))\n",
        "print(bool(c))\n",
        "print(bool(d))\n",
        "print(bool(e))\n",
        "print(\"=============================================================\")\n",
        "\n",
        "# Case 6: Variables with a length of zero have a Boolean value of False\n",
        "print(\"Case 6\")\n",
        "\n",
        "class MyClass:\n",
        "    def _len_(self):\n",
        "        return 0\n",
        "\n",
        "print(bool(MyClass()))\n",
        "print(\"=============================================================\")"
      ]
    },
    {
      "cell_type": "code",
      "source": [
        "# Membaca input dari pengguna\n",
        "input_a = input(\"Masukkan nilai a (True/False): \").lower()\n",
        "input_b = input(\"Masukkan nilai b (True/False): \").lower()\n",
        "\n",
        "# Konversi input menjadi boolean\n",
        "a = input_a == 'true'\n",
        "b = input_b == 'true'\n",
        "\n",
        "# Menampilkan nilai variabel boolean\n",
        "print(\"Nilai a:\", a)\n",
        "print(\"Nilai b:\", b)\n",
        "\n",
        "# Operasi logika AND\n",
        "c = a and b\n",
        "print(\"Hasil dari a AND b:\", c)\n",
        "\n",
        "# Operasi logika OR\n",
        "d = a or b\n",
        "print(\"Hasil dari a OR b:\", d)\n",
        "\n",
        "# Operasi logika NOT\n",
        "e = not a\n",
        "print(\"Hasil dari NOT a:\", e)"
      ],
      "metadata": {
        "colab": {
          "base_uri": "https://localhost:8080/"
        },
        "id": "pVbeFCKr_wXA",
        "outputId": "1db43766-451b-46ac-c411-53e2765b9632"
      },
      "execution_count": 2,
      "outputs": [
        {
          "output_type": "stream",
          "name": "stdout",
          "text": [
            "Masukkan nilai a (True/False): True\n",
            "Masukkan nilai b (True/False): 20\n",
            "Nilai a: True\n",
            "Nilai b: False\n",
            "Hasil dari a AND b: False\n",
            "Hasil dari a OR b: True\n",
            "Hasil dari NOT a: False\n"
          ]
        }
      ]
    },
    {
      "cell_type": "code",
      "source": [
        "#Constructing a Set (there are two methods)\n",
        "Set_1 = {\"Toyota\", \"Daihatsu\", \"Honda\"}\n",
        "Set_2 = set(((\"Toyota\", \"Daihatsu\", \"Honda\")))\n",
        "\n",
        "print(\"Tipe data Set_1 adalah\", type(Set_1))\n",
        "print(\"Tipe data Set_2 adalah\", type(Set_2))\n",
        "print(\"Data Set_1: \", Set_1)\n",
        "print(\"Data Set_2: \", Set_2)\n",
        "print(\"--------------------------------------------\")\n",
        "\n",
        "#Print every item of Set_1\n",
        "for x in Set_1:\n",
        "  print(x)\n",
        "print(\"--------------------------------------------\")\n",
        "\n",
        "#Check the length of the set\n",
        "print(len(Set_1))\n",
        "\n",
        "#Check if a key exist\n",
        "if \"Daihatsu\" in Set_1:\n",
        "  print(\"Yes, Daihatsu is an item in Set_1.\")\n",
        "\n",
        "#Add an item\n",
        "Set_1.add(\"Mitsubishi\")\n",
        "print(Set_1)\n",
        "\n",
        "#Add multiple items\n",
        "Set_1.update([\"Suzuki\", \"Mazda\", \"Nissan\"])\n",
        "print(Set_1)\n",
        "\n",
        "Set_1.remove(\"Honda\")\n",
        "print(Set_1)\n",
        "\n",
        "#Remove an item (method2)\n",
        "Set_1.discard(\"Mazda\")\n",
        "print(Set_1)\n",
        "\n",
        "#Delete (pop) the last inserted key\n",
        "Set_1.pop()\n",
        "print(Set_1)\n",
        "\n",
        "#Clear the set\n",
        "Set_1.clear()\n",
        "print(Set_1)\n",
        "\n",
        "#Delete the  set\n",
        "del Set_1\n",
        "print(\"-----------------------------------------------\")\n",
        "\n",
        "#Union of two sets\n",
        "set1 = {\"a\", \"b\", \"c\"}\n",
        "set2 = {1, 2, 3}\n",
        "set3 = set1.union(set2)\n",
        "print(set3)\n",
        "print(\"------------------------------------------------\")\n",
        "#Set 1 takes copies of all items of set 2\n",
        "set1 = {\"a\", \"b\", \"c\"}\n",
        "set2 = {1, 2, 3}\n",
        "set1.update(set2)\n",
        "print(set1)"
      ],
      "metadata": {
        "colab": {
          "base_uri": "https://localhost:8080/"
        },
        "id": "jB9N7U8y_8Fe",
        "outputId": "d9448307-98ce-4555-fe62-bdd51e3ecaea"
      },
      "execution_count": 3,
      "outputs": [
        {
          "output_type": "stream",
          "name": "stdout",
          "text": [
            "Tipe data Set_1 adalah <class 'set'>\n",
            "Tipe data Set_2 adalah <class 'set'>\n",
            "Data Set_1:  {'Honda', 'Toyota', 'Daihatsu'}\n",
            "Data Set_2:  {'Honda', 'Toyota', 'Daihatsu'}\n",
            "--------------------------------------------\n",
            "Honda\n",
            "Toyota\n",
            "Daihatsu\n",
            "--------------------------------------------\n",
            "3\n",
            "Yes, Daihatsu is an item in Set_1.\n",
            "{'Honda', 'Toyota', 'Daihatsu', 'Mitsubishi'}\n",
            "{'Suzuki', 'Toyota', 'Honda', 'Daihatsu', 'Mazda', 'Mitsubishi', 'Nissan'}\n",
            "{'Suzuki', 'Toyota', 'Daihatsu', 'Mazda', 'Mitsubishi', 'Nissan'}\n",
            "{'Suzuki', 'Toyota', 'Daihatsu', 'Mitsubishi', 'Nissan'}\n",
            "{'Toyota', 'Daihatsu', 'Mitsubishi', 'Nissan'}\n",
            "set()\n",
            "-----------------------------------------------\n",
            "{'a', 'c', 1, 2, 3, 'b'}\n",
            "------------------------------------------------\n",
            "{'a', 'c', 1, 2, 3, 'b'}\n"
          ]
        }
      ]
    },
    {
      "cell_type": "code",
      "source": [
        "# Membaca elemen-elemen set dari input pengguna\n",
        "set1_elements = input(\"Masukkan elemen-elemen set 1 (pisahkan dengan koma): \").split(',')\n",
        "set2_elements = input(\"Masukkan elemen-elemen set 2 (pisahkan dengan koma): \").split(',')\n",
        "\n",
        "# Membuat set dari elemen-elemen yang dimasukkan pengguna\n",
        "set1 = set(map(int, set1_elements))\n",
        "set2 = set(map(int, set2_elements))\n",
        "\n",
        "print(\"Set 1:\", set1)\n",
        "print(\"Set 2:\", set2)\n",
        "\n",
        "# Operasi gabungan (union) dari dua set\n",
        "union_set = set1.union(set2)\n",
        "print(\"Gabungan dari dua set:\", union_set)\n",
        "\n",
        "# Operasi irisan (intersection) dari dua set\n",
        "intersection_set = set1.intersection(set2)\n",
        "print(\"Irisan dari dua set:\", intersection_set)\n",
        "\n",
        "# Operasi selisih (difference) antara set1 dan set2\n",
        "difference_set = set1.difference(set2)\n",
        "print(\"Selisih set1 dan set2:\", difference_set)\n",
        "\n",
        "# Operasi selisih simetris (symmetric difference) antara dua set\n",
        "symmetric_difference_set = set1.symmetric_difference(set2)\n",
        "print(\"Selisih simetris dari dua set:\", symmetric_difference_set)\n",
        "\n",
        "# Menambahkan elemen ke dalam set1\n",
        "elem_to_add = int(input(\"Masukkan elemen yang ingin ditambahkan ke dalam set 1: \"))\n",
        "set1.add(elem_to_add)\n",
        "print(\"Set 1 setelah menambahkan elemen\", elem_to_add, \":\", set1)\n",
        "\n",
        "# Menghapus elemen dari set2\n",
        "elem_to_remove = int(input(\"Masukkan elemen yang ingin dihapus dari set 2: \"))\n",
        "set2.discard(elem_to_remove)\n",
        "print(\"Set 2 setelah menghapus elemen\", elem_to_remove, \":\", set2)"
      ],
      "metadata": {
        "colab": {
          "base_uri": "https://localhost:8080/"
        },
        "id": "FqXtM2FzAKn2",
        "outputId": "4c67955c-97f3-4465-bfa5-06a36769dc0f"
      },
      "execution_count": 4,
      "outputs": [
        {
          "output_type": "stream",
          "name": "stdout",
          "text": [
            "Masukkan elemen-elemen set 1 (pisahkan dengan koma): 1,5\n",
            "Masukkan elemen-elemen set 2 (pisahkan dengan koma): 3\n",
            "Set 1: {1, 5}\n",
            "Set 2: {3}\n",
            "Gabungan dari dua set: {1, 3, 5}\n",
            "Irisan dari dua set: set()\n",
            "Selisih set1 dan set2: {1, 5}\n",
            "Selisih simetris dari dua set: {1, 3, 5}\n",
            "Masukkan elemen yang ingin ditambahkan ke dalam set 1: 6\n",
            "Set 1 setelah menambahkan elemen 6 : {1, 5, 6}\n",
            "Masukkan elemen yang ingin dihapus dari set 2: 8\n",
            "Set 2 setelah menghapus elemen 8 : {3}\n"
          ]
        }
      ]
    },
    {
      "cell_type": "code",
      "source": [
        "\n"
      ],
      "metadata": {
        "id": "t44j9jgjAPr7"
      },
      "execution_count": null,
      "outputs": []
    }
  ]
}