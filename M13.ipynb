{
  "nbformat": 4,
  "nbformat_minor": 0,
  "metadata": {
    "colab": {
      "provenance": [],
      "name": "M13.ipynb",
      "authorship_tag": "ABX9TyN+NLpHQvY3GDqz1gcPzjG7",
      "include_colab_link": true
    },
    "kernelspec": {
      "name": "python3",
      "display_name": "Python 3"
    },
    "language_info": {
      "name": "python"
    }
  },
  "cells": [
    {
      "cell_type": "markdown",
      "metadata": {
        "id": "view-in-github",
        "colab_type": "text"
      },
      "source": [
        "<a href=\"https://colab.research.google.com/github/bayu1707/DAA/blob/main/M13.ipynb\" target=\"_parent\"><img src=\"https://colab.research.google.com/assets/colab-badge.svg\" alt=\"Open In Colab\"/></a>"
      ]
    },
    {
      "cell_type": "code",
      "execution_count": null,
      "metadata": {
        "colab": {
          "base_uri": "https://localhost:8080/",
          "height": 356
        },
        "id": "JE9FFqZiCALm",
        "outputId": "2cdb2e6b-9661-46dc-f634-58601545a9f7"
      },
      "outputs": [
        {
          "output_type": "error",
          "ename": "OSError",
          "evalue": "cannot open resource",
          "traceback": [
            "\u001b[0;31m---------------------------------------------------------------------------\u001b[0m",
            "\u001b[0;31mOSError\u001b[0m                                   Traceback (most recent call last)",
            "\u001b[0;32m<ipython-input-1-a26903f9ae85>\u001b[0m in \u001b[0;36m<cell line: 3>\u001b[0;34m()\u001b[0m\n\u001b[1;32m      1\u001b[0m \u001b[0;32mfrom\u001b[0m \u001b[0mPIL\u001b[0m \u001b[0;32mimport\u001b[0m \u001b[0mImage\u001b[0m\u001b[0;34m,\u001b[0m \u001b[0mImageFont\u001b[0m\u001b[0;34m,\u001b[0m \u001b[0mImageDraw\u001b[0m\u001b[0;34m\u001b[0m\u001b[0;34m\u001b[0m\u001b[0m\n\u001b[1;32m      2\u001b[0m \u001b[0;34m\u001b[0m\u001b[0m\n\u001b[0;32m----> 3\u001b[0;31m \u001b[0mFONT_FILE\u001b[0m \u001b[0;34m=\u001b[0m \u001b[0mImageFont\u001b[0m\u001b[0;34m.\u001b[0m\u001b[0mtruetype\u001b[0m\u001b[0;34m(\u001b[0m\u001b[0;34mr'GreatVibes-Regular.ttf'\u001b[0m\u001b[0;34m,\u001b[0m \u001b[0;36m250\u001b[0m\u001b[0;34m)\u001b[0m\u001b[0;34m\u001b[0m\u001b[0;34m\u001b[0m\u001b[0m\n\u001b[0m\u001b[1;32m      4\u001b[0m \u001b[0mFONT_COLOR\u001b[0m \u001b[0;34m=\u001b[0m \u001b[0;34m\"#000000\"\u001b[0m\u001b[0;34m\u001b[0m\u001b[0;34m\u001b[0m\u001b[0m\n\u001b[1;32m      5\u001b[0m \u001b[0mWIDTH\u001b[0m\u001b[0;34m,\u001b[0m \u001b[0mHEIGHT\u001b[0m \u001b[0;34m=\u001b[0m \u001b[0;36m1776\u001b[0m\u001b[0;34m,\u001b[0m \u001b[0;36m1253\u001b[0m\u001b[0;34m\u001b[0m\u001b[0;34m\u001b[0m\u001b[0m\n",
            "\u001b[0;32m/usr/local/lib/python3.10/dist-packages/PIL/ImageFont.py\u001b[0m in \u001b[0;36mtruetype\u001b[0;34m(font, size, index, encoding, layout_engine)\u001b[0m\n\u001b[1;32m   1006\u001b[0m \u001b[0;34m\u001b[0m\u001b[0m\n\u001b[1;32m   1007\u001b[0m     \u001b[0;32mtry\u001b[0m\u001b[0;34m:\u001b[0m\u001b[0;34m\u001b[0m\u001b[0;34m\u001b[0m\u001b[0m\n\u001b[0;32m-> 1008\u001b[0;31m         \u001b[0;32mreturn\u001b[0m \u001b[0mfreetype\u001b[0m\u001b[0;34m(\u001b[0m\u001b[0mfont\u001b[0m\u001b[0;34m)\u001b[0m\u001b[0;34m\u001b[0m\u001b[0;34m\u001b[0m\u001b[0m\n\u001b[0m\u001b[1;32m   1009\u001b[0m     \u001b[0;32mexcept\u001b[0m \u001b[0mOSError\u001b[0m\u001b[0;34m:\u001b[0m\u001b[0;34m\u001b[0m\u001b[0;34m\u001b[0m\u001b[0m\n\u001b[1;32m   1010\u001b[0m         \u001b[0;32mif\u001b[0m \u001b[0;32mnot\u001b[0m \u001b[0mis_path\u001b[0m\u001b[0;34m(\u001b[0m\u001b[0mfont\u001b[0m\u001b[0;34m)\u001b[0m\u001b[0;34m:\u001b[0m\u001b[0;34m\u001b[0m\u001b[0;34m\u001b[0m\u001b[0m\n",
            "\u001b[0;32m/usr/local/lib/python3.10/dist-packages/PIL/ImageFont.py\u001b[0m in \u001b[0;36mfreetype\u001b[0;34m(font)\u001b[0m\n\u001b[1;32m   1003\u001b[0m \u001b[0;34m\u001b[0m\u001b[0m\n\u001b[1;32m   1004\u001b[0m     \u001b[0;32mdef\u001b[0m \u001b[0mfreetype\u001b[0m\u001b[0;34m(\u001b[0m\u001b[0mfont\u001b[0m\u001b[0;34m)\u001b[0m\u001b[0;34m:\u001b[0m\u001b[0;34m\u001b[0m\u001b[0;34m\u001b[0m\u001b[0m\n\u001b[0;32m-> 1005\u001b[0;31m         \u001b[0;32mreturn\u001b[0m \u001b[0mFreeTypeFont\u001b[0m\u001b[0;34m(\u001b[0m\u001b[0mfont\u001b[0m\u001b[0;34m,\u001b[0m \u001b[0msize\u001b[0m\u001b[0;34m,\u001b[0m \u001b[0mindex\u001b[0m\u001b[0;34m,\u001b[0m \u001b[0mencoding\u001b[0m\u001b[0;34m,\u001b[0m \u001b[0mlayout_engine\u001b[0m\u001b[0;34m)\u001b[0m\u001b[0;34m\u001b[0m\u001b[0;34m\u001b[0m\u001b[0m\n\u001b[0m\u001b[1;32m   1006\u001b[0m \u001b[0;34m\u001b[0m\u001b[0m\n\u001b[1;32m   1007\u001b[0m     \u001b[0;32mtry\u001b[0m\u001b[0;34m:\u001b[0m\u001b[0;34m\u001b[0m\u001b[0;34m\u001b[0m\u001b[0m\n",
            "\u001b[0;32m/usr/local/lib/python3.10/dist-packages/PIL/ImageFont.py\u001b[0m in \u001b[0;36m__init__\u001b[0;34m(self, font, size, index, encoding, layout_engine)\u001b[0m\n\u001b[1;32m    253\u001b[0m                         \u001b[0mload_from_bytes\u001b[0m\u001b[0;34m(\u001b[0m\u001b[0mf\u001b[0m\u001b[0;34m)\u001b[0m\u001b[0;34m\u001b[0m\u001b[0;34m\u001b[0m\u001b[0m\n\u001b[1;32m    254\u001b[0m                     \u001b[0;32mreturn\u001b[0m\u001b[0;34m\u001b[0m\u001b[0;34m\u001b[0m\u001b[0m\n\u001b[0;32m--> 255\u001b[0;31m             self.font = core.getfont(\n\u001b[0m\u001b[1;32m    256\u001b[0m                 \u001b[0mfont\u001b[0m\u001b[0;34m,\u001b[0m \u001b[0msize\u001b[0m\u001b[0;34m,\u001b[0m \u001b[0mindex\u001b[0m\u001b[0;34m,\u001b[0m \u001b[0mencoding\u001b[0m\u001b[0;34m,\u001b[0m \u001b[0mlayout_engine\u001b[0m\u001b[0;34m=\u001b[0m\u001b[0mlayout_engine\u001b[0m\u001b[0;34m\u001b[0m\u001b[0;34m\u001b[0m\u001b[0m\n\u001b[1;32m    257\u001b[0m             )\n",
            "\u001b[0;31mOSError\u001b[0m: cannot open resource"
          ]
        }
      ],
      "source": [
        "from tkinter import *\n",
        "from tkinter.ttk import *\n",
        "\n",
        "from plotdata import regression_plot\n",
        "from stats import stats_column\n",
        "\n",
        "class Application(Frame):\n",
        "    def __init__(self, master=None):\n",
        "        super().__init__(master)\n",
        "        self.create_widget()\n",
        "\n",
        "    def create_widget(self):\n",
        "        self.winfo_toplevel().title(\"Data View\")\n",
        "        self.l1 = Label(self.master, text=\"File name\")\n",
        "        self.l2 = Label(self.master, text=\"X Label\")\n",
        "        self.l3 = Label(self.master, text=\"Y Label\")\n",
        "\n",
        "        self.l1.grid(row=0)\n",
        "        self.l2.grid(row=1)\n",
        "        self.l3.grid(row=3)\n",
        "\n",
        "\n",
        "        self.efname = Entry(self.master, width=40)\n",
        "        self.eX = Entry(self.master, width=40)\n",
        "        self.eY = Entry(self.master, width=40)\n",
        "\n",
        "        self.efname.grid(row=0, column=1, sticky=W)\n",
        "        self.eX.grid(row=1, column=1, sticky=W)\n",
        "        self.eY.grid(row=2, column=1, sticky=W)\n",
        "\n",
        "        self.txtX = Text(self.master, width=30)\n",
        "        self.txtY = Text(self.master, width=30)\n",
        "\n",
        "        self.txtX.grid(row=3, column=0, sticky=W)\n",
        "        self.txtY.grid(row=3, column=1, sticky=W)\n",
        "\n",
        "        self.style = Style()\n",
        "        self.style.map('D.TButton',\n",
        "        foreground=[('pressed', 'red'), ('active', 'green')],\n",
        "        background=[('pressed', '!disabled', 'black'), ('active', 'white')]\n",
        "        )\n",
        "\n",
        "        self.btn = Button(self.master, text=\"Show Regression Graph\",\n",
        "        style=\"D.TButton\")\n",
        "        self.btn[\"command\"] = self.show_graph\n",
        "        self.btn.grid(row=4, column=0, sticky=W)\n",
        "\n",
        "        self.stats = Button(self.master, text=\"Show Stats\",\n",
        "        style=\"D.TButton\")\n",
        "        self.stats[\"command\"] = self.show_stats\n",
        "        self.stats.grid(row=4, column=1, sticky=W)\n",
        "\n",
        "        self.quit = Button(self.master, text=\"Quite\",\n",
        "        style=\"D.TButton\", command=self.master.destroy\n",
        "        )\n",
        "        self.quit.grid(row=4, column=1, sticky=W)\n",
        "\n",
        "    def show_graph(self):\n",
        "        regression_plot(self.efname.get(), self.eX.get(), self.eY.get())\n",
        "\n",
        "    def show_stats(self):\n",
        "        xstats,ystats = stats_column(self.efname.get(), self.eX.get(), self.eY.get())\n",
        "        self.txtX.insert(INSERT, xstats)\n",
        "        self.txtY.insert(INSERT, ystats)\n",
        "\n",
        "root = Tk()\n",
        "app = Application(master=root)\n",
        "app.mainloop()"
      ]
    },
    {
      "cell_type": "code",
      "source": [
        "import pandas as pd\n",
        "from matplotlib import pyplot as plt\n",
        "import matplotlib\n",
        "import seaborn as sns\n",
        "\n",
        "def regression_plot(filename, xlabel, ylabel):\n",
        "    # create the dataram using the csv file upload\n",
        "    df = pd.read_csv(filename)\n",
        "    # Temp, Year and Rain(fall)\n",
        "    # How we set width, height using matplotlib settings\n",
        "    sns.set(rc={'figure.figsize':(12,6)})\n",
        "    sns.regplot(x=xlabel, y=ylabel, data=df)\n",
        "    # regression line shows a possible positive corrulation as tempt increases so does rainfall\n",
        "    plt.show()\n",
        "\n",
        "    return\n",
        "\n",
        "if __name__ == '__main__':\n",
        "    regression_plot(\"tempRainYearly.csv\", 'Temp', 'main')"
      ],
      "metadata": {
        "id": "9QL6P5ckCoCo"
      },
      "execution_count": null,
      "outputs": []
    },
    {
      "cell_type": "code",
      "source": [
        "import pandas as pd\n",
        "\n",
        "def stats_column(filename, xlabel, ylabel):\n",
        "    df = pd.read_csv(filename)\n",
        "\n",
        "    xdata = df(xlabel)\n",
        "    ydata = df(ylabel)\n",
        "\n",
        "    xstats = xdata.describe()\n",
        "    ystats = ydata.describe()\n",
        "\n",
        "    return xstats, ystats\n",
        "\n",
        "if __name__ == '__main__':\n",
        "    print(stats_column('tempRainYearly.csv', 'Temp', 'main'))"
      ],
      "metadata": {
        "id": "TeJR4YNbCvP3"
      },
      "execution_count": null,
      "outputs": []
    },
    {
      "cell_type": "code",
      "source": [],
      "metadata": {
        "id": "ByZQSwttCwEa"
      },
      "execution_count": null,
      "outputs": []
    },
    {
      "cell_type": "code",
      "source": [],
      "metadata": {
        "id": "zfX4-MBKC0VM"
      },
      "execution_count": null,
      "outputs": []
    },
    {
      "cell_type": "code",
      "source": [],
      "metadata": {
        "id": "mB-pKgO2C08S"
      },
      "execution_count": null,
      "outputs": []
    },
    {
      "cell_type": "code",
      "source": [],
      "metadata": {
        "id": "IvpyQ1vNC4JG"
      },
      "execution_count": null,
      "outputs": []
    },
    {
      "cell_type": "code",
      "source": [],
      "metadata": {
        "id": "XIUXOyeJC6Mk"
      },
      "execution_count": null,
      "outputs": []
    }
  ]
}