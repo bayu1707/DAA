{
  "nbformat": 4,
  "nbformat_minor": 0,
  "metadata": {
    "colab": {
      "provenance": [],
      "authorship_tag": "ABX9TyN5ZVVdyG+N0fa6nfhll7NS",
      "include_colab_link": true
    },
    "kernelspec": {
      "name": "python3",
      "display_name": "Python 3"
    },
    "language_info": {
      "name": "python"
    }
  },
  "cells": [
    {
      "cell_type": "markdown",
      "metadata": {
        "id": "view-in-github",
        "colab_type": "text"
      },
      "source": [
        "<a href=\"https://colab.research.google.com/github/bayu1707/DAA/blob/main/copy_of_jun.ipynb\" target=\"_parent\"><img src=\"https://colab.research.google.com/assets/colab-badge.svg\" alt=\"Open In Colab\"/></a>"
      ]
    },
    {
      "cell_type": "code",
      "execution_count": null,
      "metadata": {
        "colab": {
          "base_uri": "https://localhost:8080/",
          "height": 356
        },
        "id": "JE9FFqZiCALm",
        "outputId": "2cdb2e6b-9661-46dc-f634-58601545a9f7"
      },
      "outputs": [
        {
          "output_type": "error",
          "ename": "OSError",
          "evalue": "cannot open resource",
          "traceback": [
            "\u001b[0;31m---------------------------------------------------------------------------\u001b[0m",
            "\u001b[0;31mOSError\u001b[0m                                   Traceback (most recent call last)",
            "\u001b[0;32m<ipython-input-1-a26903f9ae85>\u001b[0m in \u001b[0;36m<cell line: 3>\u001b[0;34m()\u001b[0m\n\u001b[1;32m      1\u001b[0m \u001b[0;32mfrom\u001b[0m \u001b[0mPIL\u001b[0m \u001b[0;32mimport\u001b[0m \u001b[0mImage\u001b[0m\u001b[0;34m,\u001b[0m \u001b[0mImageFont\u001b[0m\u001b[0;34m,\u001b[0m \u001b[0mImageDraw\u001b[0m\u001b[0;34m\u001b[0m\u001b[0;34m\u001b[0m\u001b[0m\n\u001b[1;32m      2\u001b[0m \u001b[0;34m\u001b[0m\u001b[0m\n\u001b[0;32m----> 3\u001b[0;31m \u001b[0mFONT_FILE\u001b[0m \u001b[0;34m=\u001b[0m \u001b[0mImageFont\u001b[0m\u001b[0;34m.\u001b[0m\u001b[0mtruetype\u001b[0m\u001b[0;34m(\u001b[0m\u001b[0;34mr'GreatVibes-Regular.ttf'\u001b[0m\u001b[0;34m,\u001b[0m \u001b[0;36m250\u001b[0m\u001b[0;34m)\u001b[0m\u001b[0;34m\u001b[0m\u001b[0;34m\u001b[0m\u001b[0m\n\u001b[0m\u001b[1;32m      4\u001b[0m \u001b[0mFONT_COLOR\u001b[0m \u001b[0;34m=\u001b[0m \u001b[0;34m\"#000000\"\u001b[0m\u001b[0;34m\u001b[0m\u001b[0;34m\u001b[0m\u001b[0m\n\u001b[1;32m      5\u001b[0m \u001b[0mWIDTH\u001b[0m\u001b[0;34m,\u001b[0m \u001b[0mHEIGHT\u001b[0m \u001b[0;34m=\u001b[0m \u001b[0;36m1776\u001b[0m\u001b[0;34m,\u001b[0m \u001b[0;36m1253\u001b[0m\u001b[0;34m\u001b[0m\u001b[0;34m\u001b[0m\u001b[0m\n",
            "\u001b[0;32m/usr/local/lib/python3.10/dist-packages/PIL/ImageFont.py\u001b[0m in \u001b[0;36mtruetype\u001b[0;34m(font, size, index, encoding, layout_engine)\u001b[0m\n\u001b[1;32m   1006\u001b[0m \u001b[0;34m\u001b[0m\u001b[0m\n\u001b[1;32m   1007\u001b[0m     \u001b[0;32mtry\u001b[0m\u001b[0;34m:\u001b[0m\u001b[0;34m\u001b[0m\u001b[0;34m\u001b[0m\u001b[0m\n\u001b[0;32m-> 1008\u001b[0;31m         \u001b[0;32mreturn\u001b[0m \u001b[0mfreetype\u001b[0m\u001b[0;34m(\u001b[0m\u001b[0mfont\u001b[0m\u001b[0;34m)\u001b[0m\u001b[0;34m\u001b[0m\u001b[0;34m\u001b[0m\u001b[0m\n\u001b[0m\u001b[1;32m   1009\u001b[0m     \u001b[0;32mexcept\u001b[0m \u001b[0mOSError\u001b[0m\u001b[0;34m:\u001b[0m\u001b[0;34m\u001b[0m\u001b[0;34m\u001b[0m\u001b[0m\n\u001b[1;32m   1010\u001b[0m         \u001b[0;32mif\u001b[0m \u001b[0;32mnot\u001b[0m \u001b[0mis_path\u001b[0m\u001b[0;34m(\u001b[0m\u001b[0mfont\u001b[0m\u001b[0;34m)\u001b[0m\u001b[0;34m:\u001b[0m\u001b[0;34m\u001b[0m\u001b[0;34m\u001b[0m\u001b[0m\n",
            "\u001b[0;32m/usr/local/lib/python3.10/dist-packages/PIL/ImageFont.py\u001b[0m in \u001b[0;36mfreetype\u001b[0;34m(font)\u001b[0m\n\u001b[1;32m   1003\u001b[0m \u001b[0;34m\u001b[0m\u001b[0m\n\u001b[1;32m   1004\u001b[0m     \u001b[0;32mdef\u001b[0m \u001b[0mfreetype\u001b[0m\u001b[0;34m(\u001b[0m\u001b[0mfont\u001b[0m\u001b[0;34m)\u001b[0m\u001b[0;34m:\u001b[0m\u001b[0;34m\u001b[0m\u001b[0;34m\u001b[0m\u001b[0m\n\u001b[0;32m-> 1005\u001b[0;31m         \u001b[0;32mreturn\u001b[0m \u001b[0mFreeTypeFont\u001b[0m\u001b[0;34m(\u001b[0m\u001b[0mfont\u001b[0m\u001b[0;34m,\u001b[0m \u001b[0msize\u001b[0m\u001b[0;34m,\u001b[0m \u001b[0mindex\u001b[0m\u001b[0;34m,\u001b[0m \u001b[0mencoding\u001b[0m\u001b[0;34m,\u001b[0m \u001b[0mlayout_engine\u001b[0m\u001b[0;34m)\u001b[0m\u001b[0;34m\u001b[0m\u001b[0;34m\u001b[0m\u001b[0m\n\u001b[0m\u001b[1;32m   1006\u001b[0m \u001b[0;34m\u001b[0m\u001b[0m\n\u001b[1;32m   1007\u001b[0m     \u001b[0;32mtry\u001b[0m\u001b[0;34m:\u001b[0m\u001b[0;34m\u001b[0m\u001b[0;34m\u001b[0m\u001b[0m\n",
            "\u001b[0;32m/usr/local/lib/python3.10/dist-packages/PIL/ImageFont.py\u001b[0m in \u001b[0;36m__init__\u001b[0;34m(self, font, size, index, encoding, layout_engine)\u001b[0m\n\u001b[1;32m    253\u001b[0m                         \u001b[0mload_from_bytes\u001b[0m\u001b[0;34m(\u001b[0m\u001b[0mf\u001b[0m\u001b[0;34m)\u001b[0m\u001b[0;34m\u001b[0m\u001b[0;34m\u001b[0m\u001b[0m\n\u001b[1;32m    254\u001b[0m                     \u001b[0;32mreturn\u001b[0m\u001b[0;34m\u001b[0m\u001b[0;34m\u001b[0m\u001b[0m\n\u001b[0;32m--> 255\u001b[0;31m             self.font = core.getfont(\n\u001b[0m\u001b[1;32m    256\u001b[0m                 \u001b[0mfont\u001b[0m\u001b[0;34m,\u001b[0m \u001b[0msize\u001b[0m\u001b[0;34m,\u001b[0m \u001b[0mindex\u001b[0m\u001b[0;34m,\u001b[0m \u001b[0mencoding\u001b[0m\u001b[0;34m,\u001b[0m \u001b[0mlayout_engine\u001b[0m\u001b[0;34m=\u001b[0m\u001b[0mlayout_engine\u001b[0m\u001b[0;34m\u001b[0m\u001b[0;34m\u001b[0m\u001b[0m\n\u001b[1;32m    257\u001b[0m             )\n",
            "\u001b[0;31mOSError\u001b[0m: cannot open resource"
          ]
        }
      ],
      "source": [
        "from PIL import Image, ImageFont, ImageDraw\n",
        "\n",
        "FONT_FILE = ImageFont.truetype(r'GreatVibes-Regular.ttf', 250)\n",
        "FONT_COLOR = \"#000000\"\n",
        "WIDTH, HEIGHT = 1776, 1253\n",
        "\n",
        "\n",
        "def make_cert(name):\n",
        "    \"\"\"function to generate certificate\"\"\"\n",
        "    image_source = Image.open(r'cert_template.jpg')\n",
        "    draw = ImageDraw.Draw(image_source)\n",
        "    name_width, name_height = draw.textsize(name, font=FONT_FILE)\n",
        "    draw.text((WIDTH-name_width/2, HEIGHT-name_height/2), name, fill=FONT_COLOR, font=FONT_FILE)\n",
        "    image_source.save(\"./out/\" + name+\".jpg\")\n",
        "    print('printing certificate of: '+name)\n",
        "\n",
        "\n",
        "names = ['Natasha Romanova', 'John Wick', 'Bruce Wayne', 'Diana Prince', 'Tony Stark']\n",
        "for x in names:\n",
        "    make_cert(x)"
      ]
    },
    {
      "cell_type": "code",
      "source": [
        "from tkinter import *\n",
        "\n",
        "root = Tk()\n",
        "\n",
        "labelframe = LabelFrame(root, text=\"This is a LabelFrame\")\n",
        "labelframe.pack(fill=\"both\", expand=\"yes\")\n",
        "\n",
        "left = Label(labelframe, text=\"Inside the LabelFrame\")\n",
        "left.pack()\n",
        "\n",
        "root.mainloop()"
      ],
      "metadata": {
        "id": "9QL6P5ckCoCo"
      },
      "execution_count": null,
      "outputs": []
    },
    {
      "cell_type": "code",
      "source": [
        "from tkinter import *\n",
        "from tkinter import messagebox\n",
        "top = Tk()\n",
        "top.geometry(\"100x100\")\n",
        "def hello():\n",
        "   messagebox.showinfo(\"Say Hello\", \"Hello World\")\n",
        "\n",
        "B1 = Button(top, text = \"Say Hello\", command = hello)\n",
        "B1.place(x=35,y=50)\n",
        "\n",
        "top.mainloop()"
      ],
      "metadata": {
        "id": "TeJR4YNbCvP3"
      },
      "execution_count": null,
      "outputs": []
    },
    {
      "cell_type": "code",
      "source": [
        "from tkinter import *\n",
        "\n",
        "m1 = PanedWindow()\n",
        "m1.pack(fill=BOTH, expand=1)\n",
        "\n",
        "left = Entry(m1, bd=5)\n",
        "m1.add(left)\n",
        "\n",
        "m2 = PanedWindow(m1, orient=VERTICAL)\n",
        "m1.add(m2)\n",
        "\n",
        "top = Scale( m2, orient=HORIZONTAL)\n",
        "m2.add(top)\n",
        "\n",
        "bottom = Button(m2, text=\"OK\")\n",
        "m2.add(bottom)\n",
        "\n",
        "mainloop()"
      ],
      "metadata": {
        "id": "ByZQSwttCwEa"
      },
      "execution_count": null,
      "outputs": []
    },
    {
      "cell_type": "code",
      "source": [
        "from tkinter import *\n",
        "\n",
        "root = Tk()\n",
        "scrollbar = Scrollbar(root)\n",
        "scrollbar.pack(side=RIGHT, fill=Y)\n",
        "\n",
        "mylist = Listbox(root, yscrollcommand=scrollbar.set)\n",
        "for line in range(100):\n",
        "    mylist.insert(END, \"This is line number \" + str(line))\n",
        "\n",
        "mylist.pack(side=LEFT, fill=BOTH)\n",
        "scrollbar.config(command=mylist.yview)\n",
        "\n",
        "mainloop()"
      ],
      "metadata": {
        "id": "zfX4-MBKC0VM"
      },
      "execution_count": null,
      "outputs": []
    },
    {
      "cell_type": "code",
      "source": [
        "from tkinter import *\n",
        "master = Tk()\n",
        "w = Spinbox(master, from_=0, to=10)\n",
        "w.pack()\n",
        "mainloop()"
      ],
      "metadata": {
        "id": "mB-pKgO2C08S"
      },
      "execution_count": null,
      "outputs": []
    },
    {
      "cell_type": "code",
      "source": [
        "from tkinter import *\n",
        "root = Tk()\n",
        "text = Text(root)\n",
        "text.insert(INSERT, \"Hello.....\")\n",
        "text.insert(END, \"Bye Bye.....\")\n",
        "text.pack()\n",
        "text.tag_add(\"here\", \"1.0\", \"1.4\")\n",
        "text.tag_add(\"start\", \"1.8\", \"1.13\")\n",
        "text.tag_config(\"here\", background=\"yellow\", foreground=\"blue\")\n",
        "text.tag_config(\"start\", background=\"black\", foreground=\"green\")\n",
        "root.mainloop()"
      ],
      "metadata": {
        "id": "IvpyQ1vNC4JG"
      },
      "execution_count": null,
      "outputs": []
    },
    {
      "cell_type": "code",
      "source": [
        "from tkinter import *\n",
        "root = Tk()\n",
        "root.title(\"hello\")\n",
        "top = Toplevel()\n",
        "top.title(\"Python\")\n",
        "top.mainloop()"
      ],
      "metadata": {
        "id": "XIUXOyeJC6Mk"
      },
      "execution_count": null,
      "outputs": []
    }
  ]
}