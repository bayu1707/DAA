{
  "nbformat": 4,
  "nbformat_minor": 0,
  "metadata": {
    "colab": {
      "provenance": [],
      "authorship_tag": "ABX9TyPA8Lakm6+TzPUvEvd8iA2R",
      "include_colab_link": true
    },
    "kernelspec": {
      "name": "python3",
      "display_name": "Python 3"
    },
    "language_info": {
      "name": "python"
    }
  },
  "cells": [
    {
      "cell_type": "markdown",
      "metadata": {
        "id": "view-in-github",
        "colab_type": "text"
      },
      "source": [
        "<a href=\"https://colab.research.google.com/github/bayu1707/DAA/blob/main/DAA_PERTEMUAN_3.ipynb\" target=\"_parent\"><img src=\"https://colab.research.google.com/assets/colab-badge.svg\" alt=\"Open In Colab\"/></a>"
      ]
    },
    {
      "cell_type": "code",
      "execution_count": null,
      "metadata": {
        "colab": {
          "base_uri": "https://localhost:8080/"
        },
        "id": "WmbJQkfcI6GS",
        "outputId": "79e84c56-21bd-4d01-e97a-d14bd10bf697"
      },
      "outputs": [
        {
          "output_type": "stream",
          "name": "stdout",
          "text": [
            "['Muhammad bayu wijaya putra, 2022071029 , informatika , DAA , 13 ,universitas pembangunan jaya']\n"
          ]
        }
      ],
      "source": [
        "import numpy as np\n",
        "aList = [\"Muhammad bayu wijaya putra, 2022071029 , informatika , DAA , 13 ,universitas pembangunan jaya\"]\n",
        "print(aList)"
      ]
    },
    {
      "cell_type": "code",
      "source": [
        "#Latihan !\n",
        "from datetime import date\n",
        "\n",
        "# Membuat list Mahasiswa\n",
        "mahasiswa = [\n",
        "    {\n",
        "        \"Nama\": \"Muhammad Bayu Wijaya Putra\",\n",
        "        \"NIM\": \"2022071029\",\n",
        "        \"Prodi\": \"Teknik Informatika\",\n",
        "        \"Mata Kuliah\": \"Design Analisis Algoritma\",\n",
        "        \"Tanggal Hari Ini\": date.today().strftime(\"%d\"),\n",
        "        \"Nama Universitas\": \"Universitas Pembangunan Jaya\"\n",
        "    },\n",
        "\n",
        "]\n",
        "\n",
        "# Menampilkan list Mahasiswa\n",
        "for mhs in mahasiswa:\n",
        "    print(\"Nama:\", mhs[\"Nama\"])\n",
        "    print(\"NIM:\", mhs[\"NIM\"])\n",
        "    print(\"Prodi:\", mhs[\"Prodi\"])\n",
        "    print(\"Mata Kuliah:\", mhs[\"Mata Kuliah\"])\n",
        "    print(\"Tanggal Hari Ini:\", mhs[\"Tanggal Hari Ini\"])\n",
        "    print(\"Nama Universitas:\", mhs[\"Nama Universitas\"])\n"
      ],
      "metadata": {
        "colab": {
          "base_uri": "https://localhost:8080/"
        },
        "id": "sVOUZMr1JzCf",
        "outputId": "7dee8878-809c-40c0-97c1-d7dd68262977"
      },
      "execution_count": null,
      "outputs": [
        {
          "output_type": "stream",
          "name": "stdout",
          "text": [
            "Nama: Muhammad Bayu Wijaya Putra\n",
            "NIM: 2022071029\n",
            "Prodi: Teknik Informatika\n",
            "Mata Kuliah: Design Analisis Algoritma\n",
            "Tanggal Hari Ini: 13\n",
            "Nama Universitas: Universitas Pembangunan Jaya\n"
          ]
        }
      ]
    },
    {
      "cell_type": "code",
      "source": [
        "import datetime\n",
        "today_date = datetime.datetime.today()\n",
        "date_list = [today_date.year, today_date.month, today_date.day]"
      ],
      "metadata": {
        "id": "S8Cr-Ek3Lhfk"
      },
      "execution_count": null,
      "outputs": []
    },
    {
      "cell_type": "code",
      "source": [
        "#Latihan 2\n",
        "bin_colors=['2022071029','2022071028','2022071027']\n",
        "bin_colors[-1]"
      ],
      "metadata": {
        "colab": {
          "base_uri": "https://localhost:8080/",
          "height": 35
        },
        "id": "L_PRRvJSN9Ox",
        "outputId": "6d39387c-748e-46bb-f3c3-723c3aa4a66c"
      },
      "execution_count": null,
      "outputs": [
        {
          "output_type": "execute_result",
          "data": {
            "text/plain": [
              "'2022071027'"
            ],
            "application/vnd.google.colaboratory.intrinsic+json": {
              "type": "string"
            }
          },
          "metadata": {},
          "execution_count": 22
        }
      ]
    },
    {
      "cell_type": "code",
      "source": [
        "import datetime\n",
        "today_date = datetime.datetime.today()\n",
        "date_list = [today_date.year, today_date.month, today_date.day]\n",
        "aList = [\"Maharaya Bintangku Aridhana\",2022071009,\"Teknik Informatika\",\"Desain dan Analisis Algoritma\",today_date.year, today_date.month, today_date.day,\"Universitas Pembangungan Jaya\"]\n",
        "print(aList)"
      ],
      "metadata": {
        "colab": {
          "base_uri": "https://localhost:8080/"
        },
        "id": "bWKQsKWhPigc",
        "outputId": "2e266b2b-1060-47f5-e69a-90737093ae95"
      },
      "execution_count": null,
      "outputs": [
        {
          "output_type": "stream",
          "name": "stdout",
          "text": [
            "['Maharaya Bintangku Aridhana', 2022071009, 'Teknik Informatika', 'Desain dan Analisis Algoritma', 2023, 9, 13, 'Universitas Pembangungan Jaya']\n"
          ]
        }
      ]
    },
    {
      "cell_type": "code",
      "source": [
        "mahasiswa = [\n",
        "    {\n",
        "        \"Nama\": \"Muhamad Fahmi\",\n",
        "        \"NIM\": \"2022071026\",\n",
        "        \"Prodi\": \"Teknik Informatika\",\n",
        "        \"Mata Kuliah\": \"Desain Analisis Algoritma\",\n",
        "        \"Tanggal Hari Ini\": date.today().strftime(\"%Y-%h-%d\"),\n",
        "        \"Nama Universitas\": \"UPJ\"\n",
        "    },\n",
        "     {\n",
        "        \"Nama\": \"John Doe\",\n",
        "        \"NIM\": \"123456789\",\n",
        "        \"Prodi\": \"Teknik Informatika\",\n",
        "        \"Mata Kuliah\": \"Pemrograman Python\",\n",
        "        \"Tanggal Hari Ini\": date.today().strftime(\"%Y-%m-%d\"),\n",
        "        \"Nama Universitas\": \"Universitas Contoh\"\n",
        "    },\n",
        "    {\n",
        "        \"Nama\": \"Jane Smith\",\n",
        "        \"NIM\": \"987654321\",\n",
        "        \"Prodi\": \"Manajemen\",\n",
        "        \"Mata Kuliah\": \"Manajemen Strategis\",\n",
        "        \"Tanggal Hari Ini\": date.today().strftime(\"%Y-%m-%d\"),\n",
        "        \"Nama Universitas\": \"Universitas Contoh\"\n",
        "    }\n",
        "\n",
        "]\n",
        "for i in range(len(mahasiswa)):\n",
        "    print(\"Nama Universitas Mahasiswa ke-\", i + 1, \":\", mahasiswa[i][\"Nama Universitas\"])"
      ],
      "metadata": {
        "colab": {
          "base_uri": "https://localhost:8080/"
        },
        "id": "ygVc97fpQmav",
        "outputId": "55f7c7da-5dfc-4b6c-eb03-812298e662ea"
      },
      "execution_count": null,
      "outputs": [
        {
          "output_type": "stream",
          "name": "stdout",
          "text": [
            "Nama Universitas Mahasiswa ke- 1 : UPJ\n",
            "Nama Universitas Mahasiswa ke- 2 : Universitas Contoh\n",
            "Nama Universitas Mahasiswa ke- 3 : Universitas Contoh\n"
          ]
        }
      ]
    },
    {
      "cell_type": "code",
      "source": [
        "info = [\"2022071029\", \"Teknik Informatika\" ,\"UPJ\"]\n",
        "\n",
        "# Membuat variabel untuk menyimpan NIM dan program studi\n",
        "nim = info[0:1]\n",
        "prodi = info[1:2]\n",
        "univ = info[2:3]\n",
        "\n",
        "print(\"NIM:\", nim)\n",
        "print(\"Prodi:\", prodi)\n",
        "print(\"UNIVERSITAS:\", univ)"
      ],
      "metadata": {
        "colab": {
          "base_uri": "https://localhost:8080/"
        },
        "id": "RHKz2lOqTjTQ",
        "outputId": "f3d76d18-a5bb-4a0f-881a-55dd0fcd347d"
      },
      "execution_count": null,
      "outputs": [
        {
          "output_type": "stream",
          "name": "stdout",
          "text": [
            "NIM: ['2022071029']\n",
            "Prodi: ['Teknik Informatika']\n",
            "UNIVERSITAS: ['UPJ']\n"
          ]
        }
      ]
    },
    {
      "cell_type": "code",
      "source": [
        "bin_Mahasiswa = [\"Najib\", \"Fahmi\", \"Daffa\", \"Ican\"]\n",
        "\n",
        "for aMahasiswa in bin_Mahasiswa:\n",
        "  print(\"UPJ \" + aMahasiswa )"
      ],
      "metadata": {
        "colab": {
          "base_uri": "https://localhost:8080/"
        },
        "id": "7O3OaueuW8Sz",
        "outputId": "18acb756-7277-45ce-d061-14e2aa844db7"
      },
      "execution_count": null,
      "outputs": [
        {
          "output_type": "stream",
          "name": "stdout",
          "text": [
            "UPJ Najib\n",
            "UPJ Fahmi\n",
            "UPJ Daffa\n",
            "UPJ Ican\n"
          ]
        }
      ]
    },
    {
      "cell_type": "code",
      "source": [
        "UPJ = (\"Universitas\", \"Pembangunan\", \"Jaya\")\n",
        "elemen_pertama = UPJ[2]\n",
        "print(elemen_pertama)"
      ],
      "metadata": {
        "colab": {
          "base_uri": "https://localhost:8080/"
        },
        "id": "cROrd-R2YmlS",
        "outputId": "9d864afa-1eb1-4a2e-9942-6875b930ed14"
      },
      "execution_count": null,
      "outputs": [
        {
          "output_type": "stream",
          "name": "stdout",
          "text": [
            "Jaya\n"
          ]
        }
      ]
    },
    {
      "cell_type": "code",
      "source": [
        "hariAwal = (\"senin\",\"selasa\",\"rabu\")\n",
        "hariAkhir = (\"kamis\",\"jumat\",\"sabtu\")\n",
        "\n",
        "hari = (hariAwal, hariAkhir)\n",
        "print(hari)\n"
      ],
      "metadata": {
        "colab": {
          "base_uri": "https://localhost:8080/"
        },
        "id": "Nxw6xjvWmJ7k",
        "outputId": "ca935c69-6d6c-4ae1-888b-4fc19e867843"
      },
      "execution_count": null,
      "outputs": [
        {
          "output_type": "stream",
          "name": "stdout",
          "text": [
            "(('senin', 'selasa', 'rabu'), ('kamis', 'jumat', 'sabtu'))\n"
          ]
        }
      ]
    },
    {
      "cell_type": "code",
      "source": [
        "nested_tuple = (100, (200, 400, 600), 300, (400, 800))\n",
        "\n",
        "print(nested_tuple[1])"
      ],
      "metadata": {
        "colab": {
          "base_uri": "https://localhost:8080/"
        },
        "id": "oYh3NnzjnrnW",
        "outputId": "5472d1c3-81cc-46d8-9350-94910fed14ff"
      },
      "execution_count": null,
      "outputs": [
        {
          "output_type": "stream",
          "name": "stdout",
          "text": [
            "(200, 400, 600)\n"
          ]
        }
      ]
    },
    {
      "cell_type": "code",
      "source": [],
      "metadata": {
        "id": "O-1kQoxTotoI"
      },
      "execution_count": null,
      "outputs": []
    }
  ]
}