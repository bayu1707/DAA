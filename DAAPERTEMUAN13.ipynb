{
  "nbformat": 4,
  "nbformat_minor": 0,
  "metadata": {
    "colab": {
      "provenance": [],
      "authorship_tag": "ABX9TyOkmKkQOiyUoxj119cUEguz",
      "include_colab_link": true
    },
    "kernelspec": {
      "name": "python3",
      "display_name": "Python 3"
    },
    "language_info": {
      "name": "python"
    }
  },
  "cells": [
    {
      "cell_type": "markdown",
      "metadata": {
        "id": "view-in-github",
        "colab_type": "text"
      },
      "source": [
        "<a href=\"https://colab.research.google.com/github/bayu1707/DAA/blob/main/DAAPERTEMUAN13.ipynb\" target=\"_parent\"><img src=\"https://colab.research.google.com/assets/colab-badge.svg\" alt=\"Open In Colab\"/></a>"
      ]
    },
    {
      "cell_type": "code",
      "execution_count": 2,
      "metadata": {
        "id": "PkOpGAlNsw1l"
      },
      "outputs": [],
      "source": [
        "def bfs(graph, start):\n",
        "  visited = []\n",
        "  queue = []\n",
        "  queue = [start]\n",
        "  while queue:\n",
        "    node = queue.pop(0)\n",
        "    if node not in visited:\n",
        "      visited.append(node)\n",
        "      neighbours = graph[node]\n",
        "      for neighbour in neighbours:\n",
        "        queue.append(neighbour)\n",
        "  return visited"
      ]
    },
    {
      "cell_type": "code",
      "source": [
        "graph = {'Amin' : ['Wasim', 'Nick', 'Mike'],\n",
        "         'Wasim' : ['Imran', 'Amin'],\n",
        "         'Imran' : ['Wasim', 'Faras'],\n",
        "         'Faras' : ['Imran'],\n",
        "         'Mike' : ['Amin'],\n",
        "         'Nick' : ['Amin']}"
      ],
      "metadata": {
        "id": "YmEsAYgjvJ7j"
      },
      "execution_count": 3,
      "outputs": []
    },
    {
      "cell_type": "code",
      "source": [
        "# O Amin ---------------------------\n",
        "# |                |                |\n",
        "# O Wasim       O Nick           O Mike\n",
        "# |\n",
        "# O Imran\n",
        "# |\n",
        "# O Faras\n",
        "\n",
        "bfs(graph, 'Amin')"
      ],
      "metadata": {
        "colab": {
          "base_uri": "https://localhost:8080/"
        },
        "id": "R7oRuQAdvX2o",
        "outputId": "7b695611-70e7-449f-b351-b47a54a55fca"
      },
      "execution_count": 4,
      "outputs": [
        {
          "output_type": "execute_result",
          "data": {
            "text/plain": [
              "['Amin', 'Wasim', 'Nick', 'Mike', 'Imran', 'Faras']"
            ]
          },
          "metadata": {},
          "execution_count": 4
        }
      ]
    },
    {
      "cell_type": "code",
      "source": [
        "# O Amin ---------------------------\n",
        "# |                |                |\n",
        "# O Wasim       O Nick           O Mike\n",
        "# |\n",
        "# O Imran\n",
        "# |\n",
        "# O Faras\n",
        "\n",
        "bfs(graph, 'Wasim')"
      ],
      "metadata": {
        "colab": {
          "base_uri": "https://localhost:8080/"
        },
        "id": "2SLGl1vVvh6N",
        "outputId": "0e663e9d-62fa-4649-9e4c-06fea2763e66"
      },
      "execution_count": 6,
      "outputs": [
        {
          "output_type": "execute_result",
          "data": {
            "text/plain": [
              "['Wasim', 'Imran', 'Amin', 'Faras', 'Nick', 'Mike']"
            ]
          },
          "metadata": {},
          "execution_count": 6
        }
      ]
    },
    {
      "cell_type": "code",
      "source": [
        "# O Amin ---------------------------\n",
        "# |                |                |\n",
        "# O Wasim       O Nick           O Mike\n",
        "# |\n",
        "# O Imran\n",
        "# |\n",
        "# O Faras\n",
        "\n",
        "bfs(graph,'Faras')"
      ],
      "metadata": {
        "colab": {
          "base_uri": "https://localhost:8080/"
        },
        "id": "KmwEGcwAvlPb",
        "outputId": "e4cf50c3-781c-4965-9b82-5cd15c0d6bb8"
      },
      "execution_count": 9,
      "outputs": [
        {
          "output_type": "execute_result",
          "data": {
            "text/plain": [
              "['Faras', 'Imran', 'Wasim', 'Amin', 'Nick', 'Mike']"
            ]
          },
          "metadata": {},
          "execution_count": 9
        }
      ]
    },
    {
      "cell_type": "code",
      "source": [
        "# O Amin ---------------------------\n",
        "# |                |                |\n",
        "# O Wasim       O Nick           O Mike\n",
        "# |\n",
        "# O Imran\n",
        "# |\n",
        "# O Faras\n",
        "\n",
        "bfs(graph,'Imran')"
      ],
      "metadata": {
        "colab": {
          "base_uri": "https://localhost:8080/"
        },
        "id": "WWbuHWM6vqSY",
        "outputId": "77c87b8d-04a3-419f-b763-f84ca5646aae"
      },
      "execution_count": 10,
      "outputs": [
        {
          "output_type": "execute_result",
          "data": {
            "text/plain": [
              "['Imran', 'Wasim', 'Faras', 'Amin', 'Nick', 'Mike']"
            ]
          },
          "metadata": {},
          "execution_count": 10
        }
      ]
    },
    {
      "cell_type": "code",
      "source": [
        "# O Amin ---------------------------\n",
        "# |                |                |\n",
        "# O Wasim       O Nick           O Mike\n",
        "# |\n",
        "# O Imran\n",
        "# |\n",
        "# O Faras\n",
        "\n",
        "bfs(graph,'Nick')"
      ],
      "metadata": {
        "colab": {
          "base_uri": "https://localhost:8080/"
        },
        "id": "zjRanrvhwnKG",
        "outputId": "a9b6ddc5-045b-4853-c509-f841a658c453"
      },
      "execution_count": 11,
      "outputs": [
        {
          "output_type": "execute_result",
          "data": {
            "text/plain": [
              "['Nick', 'Amin', 'Wasim', 'Mike', 'Imran', 'Faras']"
            ]
          },
          "metadata": {},
          "execution_count": 11
        }
      ]
    },
    {
      "cell_type": "code",
      "source": [
        "# O Amin ---------------------------\n",
        "# |                |                |\n",
        "# O Wasim       O Nick           O Mike\n",
        "# |\n",
        "# O Imran\n",
        "# |\n",
        "# O Faras\n",
        "\n",
        "bfs(graph,'Mike')"
      ],
      "metadata": {
        "colab": {
          "base_uri": "https://localhost:8080/"
        },
        "id": "7CyK9VUpwqfO",
        "outputId": "07a24c01-397c-4d57-806b-f1be2f91798f"
      },
      "execution_count": 12,
      "outputs": [
        {
          "output_type": "execute_result",
          "data": {
            "text/plain": [
              "['Mike', 'Amin', 'Wasim', 'Nick', 'Imran', 'Faras']"
            ]
          },
          "metadata": {},
          "execution_count": 12
        }
      ]
    },
    {
      "cell_type": "code",
      "source": [
        "graph={'Rektor' : {'Warek1', 'Warek2'},\n",
        "       'Warek1' : {'Rektor'},\n",
        "       'Warek2' : {'Rektor','Kaprodi1', 'Kaprodi2','Kaprodi3'},\n",
        "       'Kaprodi1' : {'Warek2','Dosen A','Dosen B','Dosen C'},\n",
        "       'Dosen A' : {'Kaprodi1'},\n",
        "       'Dosen B' : {'Kaprodi1'},\n",
        "       'Dosen C' : {'Kaprodi1'},\n",
        "       'Kaprodi2' : {'Warek2','Dosen D','Dosen E'},\n",
        "       'Dosen D' : {'Kaprodi2'},\n",
        "       'Dosen E' : {'Kaprodi2'},\n",
        "       'Kaprodi3' : {'Warek2','Dosen F','Dosen G'},\n",
        "       'Dosen F': {'Kaprodi3'},\n",
        "       'Dosen G' : {'Kaprodi3'}}"
      ],
      "metadata": {
        "id": "wTPiqFDuxeRz"
      },
      "execution_count": 14,
      "outputs": []
    },
    {
      "cell_type": "code",
      "source": [
        "bfs(graph, 'Rektor')"
      ],
      "metadata": {
        "colab": {
          "base_uri": "https://localhost:8080/"
        },
        "id": "HoX_sSK00CWX",
        "outputId": "830fe20b-fe73-4477-c50f-f467453b6475"
      },
      "execution_count": 15,
      "outputs": [
        {
          "output_type": "execute_result",
          "data": {
            "text/plain": [
              "['Rektor',\n",
              " 'Warek2',\n",
              " 'Warek1',\n",
              " 'Kaprodi1',\n",
              " 'Kaprodi3',\n",
              " 'Kaprodi2',\n",
              " 'Dosen C',\n",
              " 'Dosen A',\n",
              " 'Dosen B',\n",
              " 'Dosen F',\n",
              " 'Dosen G',\n",
              " 'Dosen D',\n",
              " 'Dosen E']"
            ]
          },
          "metadata": {},
          "execution_count": 15
        }
      ]
    },
    {
      "cell_type": "code",
      "source": [
        "graph={'0'  : {'9', '7', '11'},\n",
        "       '10' : {'1', '9'},\n",
        "       '1'  : {'10', '8'},\n",
        "       '9'  : {'10', '8'},\n",
        "       '8'  : {'1', '9', '12'},\n",
        "       '12' : {'8', '2'},\n",
        "       '2'  : {'12', '3'},\n",
        "       '7'  : {'0', '11', '3', '6'},\n",
        "       '11' : {'7', '0'},\n",
        "       '3'  : {'2', '4', '7'},\n",
        "       '4'  : {'3'},\n",
        "       '6'  : {'7', '5'},\n",
        "       '5'  : {'6'}}"
      ],
      "metadata": {
        "id": "RCNW2zaC08pS"
      },
      "execution_count": 18,
      "outputs": []
    },
    {
      "cell_type": "code",
      "source": [
        "bfs(graph, '0')"
      ],
      "metadata": {
        "colab": {
          "base_uri": "https://localhost:8080/"
        },
        "id": "bX7HEcTh85Rq",
        "outputId": "00c5fb1d-616e-4b1d-c430-3c96000cd615"
      },
      "execution_count": 19,
      "outputs": [
        {
          "output_type": "execute_result",
          "data": {
            "text/plain": [
              "['0', '7', '11', '9', '6', '3', '8', '10', '5', '2', '4', '12', '1']"
            ]
          },
          "metadata": {},
          "execution_count": 19
        }
      ]
    },
    {
      "cell_type": "code",
      "source": [
        "bfs(graph, '1')"
      ],
      "metadata": {
        "colab": {
          "base_uri": "https://localhost:8080/"
        },
        "id": "4hZ41i-b89GE",
        "outputId": "3103e05b-5a70-4117-f621-5a7133c4a353"
      },
      "execution_count": 20,
      "outputs": [
        {
          "output_type": "execute_result",
          "data": {
            "text/plain": [
              "['1', '8', '10', '12', '9', '2', '3', '7', '4', '6', '11', '0', '5']"
            ]
          },
          "metadata": {},
          "execution_count": 20
        }
      ]
    },
    {
      "cell_type": "code",
      "source": [
        "bfs(graph, '2')"
      ],
      "metadata": {
        "colab": {
          "base_uri": "https://localhost:8080/"
        },
        "id": "29TgsnlcACQ7",
        "outputId": "4e0995c7-9ef1-435a-875d-cd4fad286999"
      },
      "execution_count": 21,
      "outputs": [
        {
          "output_type": "execute_result",
          "data": {
            "text/plain": [
              "['2', '12', '3', '8', '7', '4', '9', '1', '6', '11', '0', '10', '5']"
            ]
          },
          "metadata": {},
          "execution_count": 21
        }
      ]
    },
    {
      "cell_type": "code",
      "source": [
        "bfs(graph, '4')"
      ],
      "metadata": {
        "colab": {
          "base_uri": "https://localhost:8080/"
        },
        "id": "yyv04J69AD55",
        "outputId": "1ecfa3a5-e3ff-40d7-a542-962e0f07f6c9"
      },
      "execution_count": 22,
      "outputs": [
        {
          "output_type": "execute_result",
          "data": {
            "text/plain": [
              "['4', '3', '7', '2', '6', '11', '0', '12', '5', '9', '8', '10', '1']"
            ]
          },
          "metadata": {},
          "execution_count": 22
        }
      ]
    },
    {
      "cell_type": "code",
      "source": [
        "bfs(graph, '5')"
      ],
      "metadata": {
        "colab": {
          "base_uri": "https://localhost:8080/"
        },
        "id": "Xx6BZZKyAF7Q",
        "outputId": "20e170db-fa2d-43e6-9b58-1e184f1a4b7e"
      },
      "execution_count": 23,
      "outputs": [
        {
          "output_type": "execute_result",
          "data": {
            "text/plain": [
              "['5', '6', '7', '11', '0', '3', '9', '2', '4', '8', '10', '12', '1']"
            ]
          },
          "metadata": {},
          "execution_count": 23
        }
      ]
    },
    {
      "cell_type": "code",
      "source": [
        "bfs(graph, '6')"
      ],
      "metadata": {
        "colab": {
          "base_uri": "https://localhost:8080/"
        },
        "id": "ZHO_Yv6cAIAh",
        "outputId": "fda32e6a-9b93-41f9-d01b-5c122b4af1ef"
      },
      "execution_count": 24,
      "outputs": [
        {
          "output_type": "execute_result",
          "data": {
            "text/plain": [
              "['6', '5', '7', '11', '0', '3', '9', '2', '4', '8', '10', '12', '1']"
            ]
          },
          "metadata": {},
          "execution_count": 24
        }
      ]
    },
    {
      "cell_type": "code",
      "source": [
        "bfs(graph, '7')"
      ],
      "metadata": {
        "colab": {
          "base_uri": "https://localhost:8080/"
        },
        "id": "5xgmhXRtAJiz",
        "outputId": "6129b6a9-6efe-45f8-a65b-bd8f6ab9b93c"
      },
      "execution_count": 25,
      "outputs": [
        {
          "output_type": "execute_result",
          "data": {
            "text/plain": [
              "['7', '6', '11', '0', '3', '5', '9', '2', '4', '8', '10', '12', '1']"
            ]
          },
          "metadata": {},
          "execution_count": 25
        }
      ]
    },
    {
      "cell_type": "code",
      "source": [
        "bfs(graph, '8')"
      ],
      "metadata": {
        "colab": {
          "base_uri": "https://localhost:8080/"
        },
        "id": "QCZHsRDOALIi",
        "outputId": "aa109396-0ab3-494d-b867-423773225981"
      },
      "execution_count": 26,
      "outputs": [
        {
          "output_type": "execute_result",
          "data": {
            "text/plain": [
              "['8', '12', '9', '1', '2', '10', '3', '7', '4', '6', '11', '0', '5']"
            ]
          },
          "metadata": {},
          "execution_count": 26
        }
      ]
    },
    {
      "cell_type": "code",
      "source": [
        "bfs(graph, '9')"
      ],
      "metadata": {
        "colab": {
          "base_uri": "https://localhost:8080/"
        },
        "id": "Fh8Or5_VAMTl",
        "outputId": "9826a9a0-5413-4f3e-9341-a7437f32a044"
      },
      "execution_count": 27,
      "outputs": [
        {
          "output_type": "execute_result",
          "data": {
            "text/plain": [
              "['9', '8', '10', '12', '1', '2', '3', '7', '4', '6', '11', '0', '5']"
            ]
          },
          "metadata": {},
          "execution_count": 27
        }
      ]
    },
    {
      "cell_type": "code",
      "source": [
        "bfs(graph, '10')"
      ],
      "metadata": {
        "colab": {
          "base_uri": "https://localhost:8080/"
        },
        "id": "3Pb8VtM6ANm5",
        "outputId": "a4d00fc4-9251-4bad-b8d4-2c041dd62922"
      },
      "execution_count": 28,
      "outputs": [
        {
          "output_type": "execute_result",
          "data": {
            "text/plain": [
              "['10', '9', '1', '8', '12', '2', '3', '7', '4', '6', '11', '0', '5']"
            ]
          },
          "metadata": {},
          "execution_count": 28
        }
      ]
    },
    {
      "cell_type": "code",
      "source": [
        "bfs(graph, '11')"
      ],
      "metadata": {
        "colab": {
          "base_uri": "https://localhost:8080/"
        },
        "id": "AC1s7z5bAc1P",
        "outputId": "3f3d0b7b-1da1-4b90-cb8f-a66e39204914"
      },
      "execution_count": 29,
      "outputs": [
        {
          "output_type": "execute_result",
          "data": {
            "text/plain": [
              "['11', '7', '0', '6', '3', '9', '5', '2', '4', '8', '10', '12', '1']"
            ]
          },
          "metadata": {},
          "execution_count": 29
        }
      ]
    },
    {
      "cell_type": "code",
      "source": [
        "bfs(graph, '12')"
      ],
      "metadata": {
        "colab": {
          "base_uri": "https://localhost:8080/"
        },
        "id": "X5BMMZqtAeKL",
        "outputId": "9cc4448c-acb7-4d91-ba0f-fcb00200959e"
      },
      "execution_count": 32,
      "outputs": [
        {
          "output_type": "execute_result",
          "data": {
            "text/plain": [
              "['12', '8', '2', '9', '1', '3', '10', '7', '4', '6', '11', '0', '5']"
            ]
          },
          "metadata": {},
          "execution_count": 32
        }
      ]
    },
    {
      "cell_type": "code",
      "source": [
        "# DEPTH-FIRST SEARCH\n",
        "def dfs(visited, graph, node):\n",
        "  if node not in visited:\n",
        "    print(node)\n",
        "    visited.add(node)\n",
        "    for neighboor in graph[node]:\n",
        "      dfs(visited, graph, neighboor)"
      ],
      "metadata": {
        "id": "PKix14YHAkE_"
      },
      "execution_count": 37,
      "outputs": []
    },
    {
      "cell_type": "code",
      "source": [
        "graph={ 'Amin' : ['Wasim', 'Nick', 'Mike'],\n",
        "       'Wasim' : ['Imran', 'Amin'],\n",
        "       'Imran' : ['Wasim','Faras'],\n",
        "       'Faras' : ['Imran'],\n",
        "       'Mike' : ['Amin'],\n",
        "       'Nick' : ['Amin']}"
      ],
      "metadata": {
        "id": "U87q8xU_LoQf"
      },
      "execution_count": 39,
      "outputs": []
    },
    {
      "cell_type": "code",
      "source": [
        "#O Amin -----------\n",
        "#|        |       |\n",
        "#O Wasim  O Nick  O Mike\n",
        "#|\n",
        "#O Imran\n",
        "#|\n",
        "#O Faras\n",
        "\n",
        "visited = set()\n",
        "dfs(visited, graph, 'Amin')"
      ],
      "metadata": {
        "colab": {
          "base_uri": "https://localhost:8080/"
        },
        "id": "h8AjWxQPLrlv",
        "outputId": "4bf4a91f-be6f-43c7-da78-fe94fdf8b3b6"
      },
      "execution_count": 40,
      "outputs": [
        {
          "output_type": "stream",
          "name": "stdout",
          "text": [
            "Amin\n",
            "Wasim\n",
            "Imran\n",
            "Faras\n",
            "Nick\n",
            "Mike\n"
          ]
        }
      ]
    },
    {
      "cell_type": "code",
      "source": [
        "#O Amin -----------\n",
        "#|        |       |\n",
        "#O Wasim  O Nick  O Mike\n",
        "#|\n",
        "#O Imran\n",
        "#|\n",
        "#O Faras\n",
        "\n",
        "visited = set()\n",
        "dfs(visited, graph, 'Wasim')"
      ],
      "metadata": {
        "colab": {
          "base_uri": "https://localhost:8080/"
        },
        "id": "ja7UnOc5LuC7",
        "outputId": "b3a9e23e-0b57-4fa1-f991-12c4929738c7"
      },
      "execution_count": 41,
      "outputs": [
        {
          "output_type": "stream",
          "name": "stdout",
          "text": [
            "Wasim\n",
            "Imran\n",
            "Faras\n",
            "Amin\n",
            "Nick\n",
            "Mike\n"
          ]
        }
      ]
    },
    {
      "cell_type": "code",
      "source": [
        "#O Amin -----------\n",
        "#|        |       |\n",
        "#O Wasim  O Nick  O Mike\n",
        "#|\n",
        "#O Imran\n",
        "#|\n",
        "#O Faras\n",
        "\n",
        "visited = set()\n",
        "dfs(visited, graph, 'Imran')"
      ],
      "metadata": {
        "colab": {
          "base_uri": "https://localhost:8080/"
        },
        "id": "ObOWdnejNOK0",
        "outputId": "6573ac62-abb6-4940-c92d-d8c3783e74bf"
      },
      "execution_count": 42,
      "outputs": [
        {
          "output_type": "stream",
          "name": "stdout",
          "text": [
            "Imran\n",
            "Wasim\n",
            "Amin\n",
            "Nick\n",
            "Mike\n",
            "Faras\n"
          ]
        }
      ]
    },
    {
      "cell_type": "code",
      "source": [
        "#O Amin -----------\n",
        "#|        |       |\n",
        "#O Wasim  O Nick  O Mike\n",
        "#|\n",
        "#O Imran\n",
        "#|\n",
        "#O Faras\n",
        "\n",
        "visited = set()\n",
        "dfs(visited, graph, 'Faras')"
      ],
      "metadata": {
        "colab": {
          "base_uri": "https://localhost:8080/"
        },
        "id": "m6N5_QxpNP8P",
        "outputId": "676a30f6-06e2-4d39-bdfb-d48a6db96684"
      },
      "execution_count": 43,
      "outputs": [
        {
          "output_type": "stream",
          "name": "stdout",
          "text": [
            "Faras\n",
            "Imran\n",
            "Wasim\n",
            "Amin\n",
            "Nick\n",
            "Mike\n"
          ]
        }
      ]
    },
    {
      "cell_type": "code",
      "source": [
        "#O Amin -----------\n",
        "#|        |       |\n",
        "#O Wasim  O Nick  O Mike\n",
        "#|\n",
        "#O Imran\n",
        "#|\n",
        "#O Faras\n",
        "\n",
        "visited = set()\n",
        "dfs(visited, graph, 'Nick')"
      ],
      "metadata": {
        "colab": {
          "base_uri": "https://localhost:8080/"
        },
        "id": "p7o9zZbcNRlC",
        "outputId": "05e10a79-c2e7-4d0e-be71-5798393ebe6d"
      },
      "execution_count": 44,
      "outputs": [
        {
          "output_type": "stream",
          "name": "stdout",
          "text": [
            "Nick\n",
            "Amin\n",
            "Wasim\n",
            "Imran\n",
            "Faras\n",
            "Mike\n"
          ]
        }
      ]
    },
    {
      "cell_type": "code",
      "source": [
        "#O Amin -----------\n",
        "#|        |       |\n",
        "#O Wasim  O Nick  O Mike\n",
        "#|\n",
        "#O Imran\n",
        "#|\n",
        "#O Faras\n",
        "\n",
        "visited = set()\n",
        "dfs(visited, graph, 'Mike')"
      ],
      "metadata": {
        "colab": {
          "base_uri": "https://localhost:8080/"
        },
        "id": "lGn_4xRXNUhY",
        "outputId": "1d92aeef-8e8d-4bb7-df06-69905b1e373d"
      },
      "execution_count": 45,
      "outputs": [
        {
          "output_type": "stream",
          "name": "stdout",
          "text": [
            "Mike\n",
            "Amin\n",
            "Wasim\n",
            "Imran\n",
            "Faras\n",
            "Nick\n"
          ]
        }
      ]
    },
    {
      "cell_type": "code",
      "source": [
        "graph={'Rektor' : ['Warek1', 'Warek2'],\n",
        "       'Warek1' : ['Rektor'],\n",
        "       'Warek2' : ['Rektor','Kaprodi1', 'Kaprodi2','Kaprodi3'],\n",
        "       'Kaprodi1' : ['Warek2','Dosen A','Dosen B','Dosen C'],\n",
        "       'Dosen A' : ['Kaprodi1'],\n",
        "       'Dosen B' : ['Kaprodi1'],\n",
        "       'Dosen C' : ['Kaprodi1'],\n",
        "       'Kaprodi2' : ['Warek2','Dosen D','Dosen E'],\n",
        "       'Dosen D' : ['Kaprodi2'],\n",
        "       'Dosen E' : ['Kaprodi2'],\n",
        "       'Kaprodi3' : ['Warek2','Dosen F','Dosen G'],\n",
        "       'Dosen F': ['Kaprodi3'],\n",
        "       'Dosen G' : ['Kaprodi3']}"
      ],
      "metadata": {
        "id": "g5CGyk69NWeH"
      },
      "execution_count": 46,
      "outputs": []
    },
    {
      "cell_type": "code",
      "source": [
        "visited = set()\n",
        "dfs(visited, graph, 'Rektor')"
      ],
      "metadata": {
        "colab": {
          "base_uri": "https://localhost:8080/"
        },
        "id": "VLPVA5ItNy5y",
        "outputId": "650327bf-f355-4f10-a6a7-bea0512fcd5d"
      },
      "execution_count": 47,
      "outputs": [
        {
          "output_type": "stream",
          "name": "stdout",
          "text": [
            "Rektor\n",
            "Warek1\n",
            "Warek2\n",
            "Kaprodi1\n",
            "Dosen A\n",
            "Dosen B\n",
            "Dosen C\n",
            "Kaprodi2\n",
            "Dosen D\n",
            "Dosen E\n",
            "Kaprodi3\n",
            "Dosen F\n",
            "Dosen G\n"
          ]
        }
      ]
    },
    {
      "cell_type": "code",
      "source": [
        "graph4 ={'0' : {'1', '9'},\n",
        "       '1' : {'0', '8'},\n",
        "       '9' : {'0', '8'},\n",
        "       '8' : {'1', '9', '7'},\n",
        "       '7' : {'8', '10', '11','3','6'},\n",
        "       '10' : {'7', '11'},\n",
        "       '11' : {'10', '7'},\n",
        "       '6' : {'7', '5'},\n",
        "       '5' : {'6', '3'},\n",
        "       '3' : {'7', '5','2','4'},\n",
        "       '4' : {'3'},\n",
        "       '2' : {'3'},\n",
        "       '12': {' '}}"
      ],
      "metadata": {
        "id": "C6iBbnwKN8_z"
      },
      "execution_count": 48,
      "outputs": []
    },
    {
      "cell_type": "code",
      "source": [
        "visited = set()\n",
        "dfs(visited, graph4, '0')"
      ],
      "metadata": {
        "colab": {
          "base_uri": "https://localhost:8080/"
        },
        "id": "gqMZ4jJVSwIM",
        "outputId": "675ccd09-446a-4b12-c826-1098378e18ff"
      },
      "execution_count": 50,
      "outputs": [
        {
          "output_type": "stream",
          "name": "stdout",
          "text": [
            "0\n",
            "9\n",
            "8\n",
            "7\n",
            "11\n",
            "10\n",
            "6\n",
            "5\n",
            "3\n",
            "2\n",
            "4\n",
            "1\n"
          ]
        }
      ]
    },
    {
      "cell_type": "code",
      "source": [],
      "metadata": {
        "id": "vcC1usyhS4jW"
      },
      "execution_count": null,
      "outputs": []
    }
  ]
}